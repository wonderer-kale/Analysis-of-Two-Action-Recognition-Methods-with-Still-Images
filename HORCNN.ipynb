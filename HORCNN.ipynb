{
 "cells": [
  {
   "cell_type": "markdown",
   "id": "7f92597f-563c-4e62-85d4-dac15e2893ee",
   "metadata": {},
   "source": [
    "## Packages"
   ]
  },
  {
   "cell_type": "code",
   "execution_count": 1,
   "id": "38c9b347-6589-47b4-ad65-014762e6f096",
   "metadata": {},
   "outputs": [],
   "source": [
    "import cv2\n",
    "import glob\n",
    "import json\n",
    "from PIL import Image\n",
    "\n",
    "import matplotlib.pyplot as plt\n",
    "import numpy as np\n",
    "from tqdm import tqdm\n",
    "\n",
    "import torch\n",
    "import torch.nn as nn\n",
    "import torch.nn.functional as F\n",
    "import torch.optim as optim\n",
    "import torchvision.transforms as transforms\n",
    "from torch.utils.data import Dataset, DataLoader\n",
    "from sklearn.model_selection import train_test_split\n",
    "\n",
    "torch.manual_seed(0)\n",
    "np.random.seed(0)"
   ]
  },
  {
   "cell_type": "markdown",
   "id": "24042c13-d714-4a54-b9c8-e93713157057",
   "metadata": {},
   "source": [
    "## Load and Preprocess Data"
   ]
  },
  {
   "cell_type": "code",
   "execution_count": 2,
   "id": "1c09a414-a641-4177-ad46-b47c881f640e",
   "metadata": {},
   "outputs": [],
   "source": [
    "class HOIDataset(Dataset):\n",
    "    def __init__(self, transform, data_list, label_list):\n",
    "        self.imgs_path = \"vcoco_dataset/\"\n",
    "        self.transform = transform\n",
    "        self.data = []\n",
    "        for i in range(len(data_list)):\n",
    "            img_path = data_list[i]\n",
    "            class_name = label_list[i]\n",
    "            agent_path = img_path + '/agent.jpg'\n",
    "            object_path = img_path + '/object.jpg'\n",
    "            union_path = img_path + '/union.jpg'\n",
    "            self.data.append([agent_path, object_path, union_path, class_name])\n",
    "\n",
    "        self.class_map = {\n",
    "            'sit': 0,\n",
    "            'ride': 1,\n",
    "            'jump': 2,\n",
    "            'lay': 3,\n",
    "            'talk_on_phone': 4,\n",
    "            'carry': 5,\n",
    "            'throw': 6,\n",
    "            'catch': 7,\n",
    "            'work_on_computer': 8,\n",
    "            'surf': 9,\n",
    "            'skateboard': 10,\n",
    "            'ski': 11,\n",
    "            'snowboard': 12,\n",
    "            'drink': 13,\n",
    "            'kick': 14,\n",
    "            'point': 15,\n",
    "            'read': 16,\n",
    "            'hold': 17,\n",
    "            'look': 18\n",
    "        }\n",
    "    \n",
    "    def __len__(self):\n",
    "        return len(self.data)    \n",
    "    \n",
    "    def __getitem__(self, idx):\n",
    "        agent_path, object_path, union_path, class_name = self.data[idx]\n",
    "        agent_img = Image.open(agent_path)\n",
    "        object_img = Image.open(object_path)\n",
    "        union_img = Image.open(union_path)\n",
    "        \n",
    "        if self.transform:\n",
    "            agent_img = self.transform(agent_img)\n",
    "            object_img = self.transform(object_img)\n",
    "            union_img = self.transform(union_img)\n",
    "\n",
    "        trans = transforms.Compose([ \n",
    "            transforms.ToTensor() \n",
    "        ]) \n",
    "        agent = trans(agent_img)\n",
    "        object = trans(object_img)\n",
    "        union = trans(union_img)\n",
    "        class_id = self.class_map[class_name]\n",
    "        one_hot_class = torch.Tensor([0] * 13)\n",
    "        one_hot_class[class_id] += 1\n",
    "        \n",
    "        return agent, object, union, one_hot_class"
   ]
  },
  {
   "cell_type": "code",
   "execution_count": 3,
   "id": "7a9dded6-9004-488a-849e-a95321f4eb2c",
   "metadata": {},
   "outputs": [],
   "source": [
    "class PadToSquare:\n",
    "    def __call__(self, image):\n",
    "        w, h = image.size\n",
    "        max_wh = max(w, h)\n",
    "        hp = (max_wh - h) // 2\n",
    "        wp = (max_wh - w) // 2\n",
    "        padding = (wp, hp, wp, hp)\n",
    "        return transforms.functional.pad(image, padding, fill=0, padding_mode='constant')\n",
    "    \n",
    "class Rescale:\n",
    "    def __init__(self, output_size):\n",
    "        assert isinstance(output_size, (int, tuple))\n",
    "        self.output_size = output_size\n",
    "\n",
    "    def __call__(self, image):\n",
    "        return transforms.functional.resize(image, self.output_size)\n",
    "\n",
    "class PadAndRescale:\n",
    "    def __init__(self, output_size):\n",
    "        self.pad = PadToSquare()\n",
    "        self.rescale = Rescale(output_size)\n",
    "\n",
    "    def __call__(self, image):\n",
    "        image = self.pad(image)\n",
    "        image = self.rescale(image)\n",
    "        return image\n"
   ]
  },
  {
   "cell_type": "code",
   "execution_count": 4,
   "id": "c851bb72-6aea-4983-b02a-afa6e3a4dc27",
   "metadata": {},
   "outputs": [],
   "source": [
    "data_list = []\n",
    "label_list = []\n",
    "imgs_path = \"vcoco_dataset/\"\n",
    "file_list = glob.glob(imgs_path + \"*\")\n",
    "for class_path in file_list:\n",
    "    class_name = class_path.split(\"/\")[-1]\n",
    "    if len(glob.glob(class_path + \"/*\")) < 300:\n",
    "        continue\n",
    "    elif class_name == 'hold' or class_name == 'look':\n",
    "        continue\n",
    "    num_img = 0\n",
    "    for img_path in glob.glob(class_path + \"/*\"):\n",
    "        data_list.append(img_path)\n",
    "        label_list.append(class_name)\n",
    "        num_img += 1\n",
    "        if num_img > 417:\n",
    "            break\n",
    "\n",
    "# Split the dataset\n",
    "train_data, test_data, train_labels, test_labels = train_test_split(data_list, label_list, test_size=0.1, random_state=42)\n",
    "train_data, val_data, train_labels, val_labels = train_test_split(train_data, train_labels, test_size=(1/9), random_state=42)\n",
    "\n",
    "# Create HOIDatasets\n",
    "transform = PadAndRescale(output_size=(128, 128))\n",
    "train_dataset = HOIDataset(transform = transform, data_list = train_data, label_list = train_labels)\n",
    "test_dataset = HOIDataset(transform = transform, data_list = test_data, label_list = test_labels)\n",
    "val_dataset = HOIDataset(transform = transform, data_list = val_data, label_list = val_labels)\n",
    "\n",
    "# Create DataLoaders\n",
    "train_loader = DataLoader(train_dataset, batch_size=32, shuffle=True)\n",
    "val_loader = DataLoader(val_dataset, batch_size=1, shuffle=False)\n",
    "test_loader = DataLoader(test_dataset, batch_size=1, shuffle=False)"
   ]
  },
  {
   "cell_type": "markdown",
   "id": "18d4e281-23c3-42a0-97ad-693a29d897be",
   "metadata": {},
   "source": [
    "## Model"
   ]
  },
  {
   "cell_type": "markdown",
   "id": "c8d5510a-dee6-47cd-a182-d1c96062131a",
   "metadata": {},
   "source": [
    "convlayers = nn.Sequential(\n",
    "    nn.Conv2d(3, 96, kernel_size=11, stride=4, padding=5),\n",
    "    nn.BatchNorm2d(96),\n",
    "    nn.MaxPool2d(kernel_size=3, stride=2, padding=1),\n",
    "    nn.ReLU(),\n",
    "    # nn.LocalResponseNorm(size=5, alpha=0.0001, beta=0.75),\n",
    "\n",
    "    nn.Conv2d(96, 256, kernel_size=5, stride=1, padding=2, groups=2),\n",
    "    nn.BatchNorm2d(256),\n",
    "    nn.MaxPool2d(kernel_size=3, stride=2, padding=1),\n",
    "    nn.ReLU(),\n",
    "    # nn.LocalResponseNorm(size=5, alpha=0.0001, beta=0.75),\n",
    "\n",
    "    nn.Conv2d(256, 384, kernel_size=3, stride=1, padding=1),\n",
    "    nn.BatchNorm2d(384),\n",
    "    nn.ReLU(),\n",
    "    \n",
    "    nn.Conv2d(384, 384, kernel_size=3, stride=1, padding=1, groups=2),\n",
    "    nn.BatchNorm2d(384),\n",
    "    nn.ReLU(),\n",
    "    \n",
    "    nn.Conv2d(384, 256, kernel_size=3, stride=1, padding=1, groups=2),\n",
    "    nn.BatchNorm2d(256),\n",
    "    nn.ReLU()\n",
    ")"
   ]
  },
  {
   "cell_type": "markdown",
   "id": "246fbe1e-d4da-4f52-ba1e-280c898ca706",
   "metadata": {},
   "source": [
    "### Human Stream"
   ]
  },
  {
   "cell_type": "markdown",
   "id": "d8670629-7699-49f2-9134-384139f8e160",
   "metadata": {
    "scrolled": true
   },
   "source": [
    "import copy\n",
    "hs_model = copy.deepcopy(convlayers)\n",
    "hs_model.append(nn.MaxPool2d(kernel_size=3, stride=2, padding=1))\n",
    "hs_model.append(nn.Flatten())\n",
    "hs_model.append(nn.Linear(256 * 4 * 4, 4096))\n",
    "hs_model.append(nn.ReLU())\n",
    "hs_model.append(nn.Dropout(p=0.5))\n",
    "hs_model.append(nn.Linear(4096, 600))\n",
    "hs_model.append(nn.ReLU())\n",
    "hs_model.append(nn.Dropout(p=0.5))\n",
    "hs_model.append(nn.Linear(600, 13))\n",
    "hs_model.append(nn.Sigmoid())"
   ]
  },
  {
   "cell_type": "markdown",
   "id": "8cbc04a7-16f3-4220-ae83-e1e12a658709",
   "metadata": {},
   "source": [
    "### Object Stream"
   ]
  },
  {
   "cell_type": "markdown",
   "id": "844571bf-2a62-415a-8617-e4870e46f39f",
   "metadata": {
    "scrolled": true
   },
   "source": [
    "os_model = copy.deepcopy(convlayers)\n",
    "os_model.append(nn.MaxPool2d(kernel_size=3, stride=2, padding=1))\n",
    "os_model.append(nn.Flatten())\n",
    "os_model.append(nn.Linear(256 * 4 * 4, 4096))\n",
    "os_model.append(nn.ReLU())\n",
    "os_model.append(nn.Dropout(p=0.5))\n",
    "os_model.append(nn.Linear(4096, 600))\n",
    "os_model.append(nn.ReLU())\n",
    "os_model.append(nn.Dropout(p=0.5))\n",
    "os_model.append(nn.Linear(600, 13))\n",
    "os_model.append(nn.Sigmoid())"
   ]
  },
  {
   "cell_type": "markdown",
   "id": "c29a2c76-62fc-4f14-ae6d-10c2e45388b9",
   "metadata": {},
   "source": [
    "### Pairwise Stream"
   ]
  },
  {
   "cell_type": "markdown",
   "id": "5274c0db-7b59-4975-a780-a632f0e6bf49",
   "metadata": {},
   "source": [
    "'''\n",
    "ps_model = nn.Sequential(\n",
    "    nn.Conv2d(3, 96, kernel_size=5),\n",
    "    nn.BatchNorm2d(96),\n",
    "    nn.ReLU(),\n",
    "    nn.MaxPool2d(kernel_size=3, stride=2, padding=1),\n",
    "    nn.Conv2d(96, 64, kernel_size=5),\n",
    "    nn.BatchNorm2d(64),\n",
    "    nn.ReLU(),\n",
    "    nn.MaxPool2d(kernel_size=3, stride=2, padding=1),\n",
    "    nn.Conv2d(64, 32, kernel_size=5),\n",
    "    nn.BatchNorm2d(32),\n",
    "    nn.ReLU(),\n",
    "    nn.MaxPool2d(kernel_size=3, stride=2, padding=1),\n",
    "    nn.Flatten(),\n",
    "    nn.Linear(5408, 600),\n",
    "    nn.ReLU(),\n",
    "    nn.Linear(600, 13),\n",
    "    nn.Sigmoid()\n",
    ")\n",
    "'''\n",
    "ps_model = copy.deepcopy(convlayers)\n",
    "ps_model.append(nn.MaxPool2d(kernel_size=3, stride=2, padding=1))\n",
    "ps_model.append(nn.Flatten())\n",
    "ps_model.append(nn.Linear(256 * 4 * 4, 4096))\n",
    "ps_model.append(nn.ReLU())\n",
    "ps_model.append(nn.Dropout(p=0.5))\n",
    "ps_model.append(nn.Linear(4096, 600))\n",
    "ps_model.append(nn.ReLU())\n",
    "ps_model.append(nn.Dropout(p=0.5))\n",
    "ps_model.append(nn.Linear(600, 13))\n",
    "ps_model.append(nn.Sigmoid())"
   ]
  },
  {
   "cell_type": "markdown",
   "id": "06ee0e07-333c-4b7a-ab50-838149f6f5ca",
   "metadata": {},
   "source": [
    "## Training"
   ]
  },
  {
   "cell_type": "markdown",
   "id": "85121505-1bed-4aad-855d-4923522297d3",
   "metadata": {},
   "source": [
    "### Hyperparameters"
   ]
  },
  {
   "cell_type": "markdown",
   "id": "0b8be4d0-b8c9-4f55-ab0d-9e382c79de0c",
   "metadata": {},
   "source": [
    "num_epochs = 80"
   ]
  },
  {
   "cell_type": "markdown",
   "id": "97f845fd-801c-4319-9dfc-1a25f611c044",
   "metadata": {},
   "source": [
    "criterion = nn.CrossEntropyLoss()\n",
    "h_optimizer = optim.Adam(hs_model.parameters(), lr=0.0001)\n",
    "o_optimizer = optim.Adam(os_model.parameters(), lr=0.0001)\n",
    "p_optimizer = optim.Adam(ps_model.parameters(), lr=0.0001)"
   ]
  },
  {
   "cell_type": "markdown",
   "id": "a2057612-cb18-4bbb-9670-858e969896eb",
   "metadata": {
    "scrolled": true
   },
   "source": [
    "for epoch in range(num_epochs): \n",
    "\n",
    "    running_loss = 0.0\n",
    "    for i, data in enumerate(tqdm(train_loader, desc=f'Epoch {epoch + 1}')):\n",
    "        \n",
    "        h_input, o_input, p_input, y = data\n",
    "        \n",
    "        h_optimizer.zero_grad()\n",
    "        o_optimizer.zero_grad()\n",
    "        p_optimizer.zero_grad()\n",
    "\n",
    "        h_yhat = hs_model(h_input)\n",
    "        o_yhat = os_model(o_input)\n",
    "        p_yhat = ps_model(p_input)\n",
    "\n",
    "        yhat = (h_yhat + o_yhat + p_yhat) / 3.0\n",
    "        \n",
    "        loss = criterion(yhat, y)\n",
    "        loss.backward()\n",
    "        h_optimizer.step()\n",
    "        o_optimizer.step()\n",
    "        p_optimizer.step()\n",
    "        \n",
    "        running_loss += loss.item()\n",
    "        if i % 100 == 99:\n",
    "            print(f'[{epoch + 1}, {i + 1:5d}] loss: {running_loss / 100:.3f}')\n",
    "            running_loss = 0.0\n",
    "            \n",
    "    val_loss = 0.0\n",
    "    val_steps = 0\n",
    "    hs_model.eval()\n",
    "    os_model.eval()\n",
    "    ps_model.eval()\n",
    "    \n",
    "    with torch.no_grad():\n",
    "        correct = 0\n",
    "        wrong = 0\n",
    "        action_real = [0] * 13\n",
    "        action_predict = [0] * 13\n",
    "        for val_data in tqdm(test_loader, desc=f'Validation Epoch {epoch + 1}'):\n",
    "            h_input, o_input, p_input, y = val_data\n",
    "            \n",
    "            h_yhat = hs_model(h_input)\n",
    "            o_yhat = os_model(o_input)\n",
    "            p_yhat = ps_model(p_input)\n",
    "\n",
    "            y_hat = (h_yhat + o_yhat + p_yhat) / 3.0\n",
    "\n",
    "            predicted = torch.argmax(y_hat.data, 1)\n",
    "            action_predict[predicted] += 1\n",
    "\n",
    "            true_labels = torch.argmax(y, 1)\n",
    "            action_real[true_labels] += 1\n",
    "\n",
    "            for i in range(len(true_labels)):\n",
    "                if predicted==true_labels:\n",
    "                    correct += 1\n",
    "                else:\n",
    "                    wrong += 1\n",
    "            loss = criterion(y_hat, y)\n",
    "            val_loss += loss.item()\n",
    "            val_steps += 1\n",
    "\n",
    "    avg_val_loss = val_loss / val_steps\n",
    "    accuracy = correct / (correct + wrong)\n",
    "    print(f'Epoch {epoch + 1} | validation loss: {avg_val_loss:.3f} | accuracy: {accuracy}')\n",
    "    print(action_real)\n",
    "    print(action_predict)"
   ]
  },
  {
   "cell_type": "markdown",
   "id": "88973963-ab59-42c8-8f14-fd91df454cf8",
   "metadata": {
    "scrolled": true
   },
   "source": [
    "# Load the saved weights\n",
    "PATH = './hs_model_weights.pth'\n",
    "hs_model.load_state_dict(torch.load(PATH))\n",
    "hs_model.eval()\n",
    "\n",
    "PATH = './os_model_weights.pth'\n",
    "os_model.load_state_dict(torch.load(PATH))\n",
    "os_model.eval()\n",
    "\n",
    "PATH = './ps_model_weights.pth'\n",
    "ps_model.load_state_dict(torch.load(PATH))\n",
    "ps_model.eval()"
   ]
  },
  {
   "cell_type": "markdown",
   "id": "91b41b54-dadd-4ab2-b346-2ba1a9a1ee31",
   "metadata": {},
   "source": [
    "## Evaluation"
   ]
  },
  {
   "cell_type": "markdown",
   "id": "0e551a30-fcb4-4e59-badd-ee1bf64c3176",
   "metadata": {},
   "source": [
    "correct = 0\n",
    "wrong = 0\n",
    "count = 0\n",
    "\n",
    "for i, data in enumerate(test_loader):\n",
    "    \n",
    "    h_input, o_input, p_input, y = data\n",
    "    \n",
    "    h_yhat = hs_model(h_input)\n",
    "    o_yhat = os_model(o_input)\n",
    "    p_yhat = ps_model(p_input)\n",
    "    \n",
    "    yhat = (h_yhat + o_yhat + p_yhat) / 3.0\n",
    "    \n",
    "    # Get the predicted class for each input in the batch\n",
    "    predicted = torch.argmax(yhat.data, 1)\n",
    "\n",
    "    # Get the correct class indices\n",
    "    true_labels = torch.argmax(y, 1)\n",
    "\n",
    "    if predicted==true_labels:\n",
    "        correct += 1\n",
    "    else:\n",
    "        wrong += 1\n",
    "\n",
    "accuracy = correct / (correct + wrong)\n",
    "print(f\"correct: {correct}, wrong: {wrong}, accuracy: {accuracy}\")\n",
    "        "
   ]
  },
  {
   "cell_type": "code",
   "execution_count": 5,
   "id": "1fb5d8fc-1d19-44e2-aa0b-740445511fe4",
   "metadata": {},
   "outputs": [
    {
     "name": "stderr",
     "output_type": "stream",
     "text": [
      "/home/kale/anaconda3/envs/py38/lib/python3.8/site-packages/torchvision/models/_utils.py:208: UserWarning: The parameter 'pretrained' is deprecated since 0.13 and may be removed in the future, please use 'weights' instead.\n",
      "  warnings.warn(\n",
      "/home/kale/anaconda3/envs/py38/lib/python3.8/site-packages/torchvision/models/_utils.py:223: UserWarning: Arguments other than a weight enum or `None` for 'weights' are deprecated since 0.13 and may be removed in the future. The current behavior is equivalent to passing `weights=AlexNet_Weights.IMAGENET1K_V1`. You can also use `weights=AlexNet_Weights.DEFAULT` to get the most up-to-date weights.\n",
      "  warnings.warn(msg)\n"
     ]
    },
    {
     "data": {
      "text/plain": [
       "AlexNet(\n",
       "  (features): Sequential(\n",
       "    (0): Conv2d(3, 64, kernel_size=(11, 11), stride=(4, 4), padding=(2, 2))\n",
       "    (1): ReLU(inplace=True)\n",
       "    (2): MaxPool2d(kernel_size=3, stride=2, padding=0, dilation=1, ceil_mode=False)\n",
       "    (3): Conv2d(64, 192, kernel_size=(5, 5), stride=(1, 1), padding=(2, 2))\n",
       "    (4): ReLU(inplace=True)\n",
       "    (5): MaxPool2d(kernel_size=3, stride=2, padding=0, dilation=1, ceil_mode=False)\n",
       "    (6): Conv2d(192, 384, kernel_size=(3, 3), stride=(1, 1), padding=(1, 1))\n",
       "    (7): ReLU(inplace=True)\n",
       "    (8): Conv2d(384, 256, kernel_size=(3, 3), stride=(1, 1), padding=(1, 1))\n",
       "    (9): ReLU(inplace=True)\n",
       "    (10): Conv2d(256, 256, kernel_size=(3, 3), stride=(1, 1), padding=(1, 1))\n",
       "    (11): ReLU(inplace=True)\n",
       "    (12): MaxPool2d(kernel_size=3, stride=2, padding=0, dilation=1, ceil_mode=False)\n",
       "  )\n",
       "  (avgpool): AdaptiveAvgPool2d(output_size=(6, 6))\n",
       "  (classifier): Sequential(\n",
       "    (0): Dropout(p=0.5, inplace=False)\n",
       "    (1): Linear(in_features=9216, out_features=4096, bias=True)\n",
       "    (2): ReLU(inplace=True)\n",
       "    (3): Dropout(p=0.5, inplace=False)\n",
       "    (4): Linear(in_features=4096, out_features=4096, bias=True)\n",
       "    (5): ReLU(inplace=True)\n",
       "    (6): Linear(in_features=4096, out_features=13, bias=True)\n",
       "  )\n",
       ")"
      ]
     },
     "execution_count": 5,
     "metadata": {},
     "output_type": "execute_result"
    }
   ],
   "source": [
    "from torchvision import models\n",
    "net = models.alexnet(pretrained=True)\n",
    "\n",
    "net.classifier[6] = nn.Linear(in_features=4096, out_features=13, bias=True)\n",
    "\n",
    "net.train()"
   ]
  },
  {
   "cell_type": "code",
   "execution_count": 6,
   "id": "c9b36238-56b5-4de4-aee6-4f4b90c3ca68",
   "metadata": {},
   "outputs": [],
   "source": [
    "import copy\n",
    "hs_model = copy.deepcopy(net)\n",
    "os_model = copy.deepcopy(net)\n",
    "# ps_model = copy.deepcopy(net)\n",
    "ps_model = nn.Sequential(\n",
    "    nn.Conv2d(3, 32, kernel_size=5),\n",
    "    nn.BatchNorm2d(32),\n",
    "    nn.ReLU(),\n",
    "    nn.MaxPool2d(kernel_size=3, stride=2, padding=1),\n",
    "    nn.Conv2d(32, 64, kernel_size=5),\n",
    "    nn.BatchNorm2d(64),\n",
    "    nn.ReLU(),\n",
    "    nn.MaxPool2d(kernel_size=3, stride=2, padding=1),\n",
    "    nn.Conv2d(64, 32, kernel_size=5),\n",
    "    nn.BatchNorm2d(32),\n",
    "    nn.ReLU(),\n",
    "    nn.MaxPool2d(kernel_size=3, stride=2, padding=1),\n",
    "    nn.Flatten(),\n",
    "    nn.Dropout(p=0.5),\n",
    "    nn.Linear(5408, 4096),\n",
    "    nn.ReLU(),\n",
    "    nn.Dropout(p=0.5),\n",
    "    nn.Linear(4096, 512),\n",
    "    nn.ReLU(),\n",
    "    nn.Dropout(p=0.5),\n",
    "    nn.Linear(512, 13),\n",
    "    nn.Sigmoid()\n",
    ")"
   ]
  },
  {
   "cell_type": "code",
   "execution_count": 7,
   "id": "d197863f-6c1c-4aa1-8ad6-f094ae3fc5d9",
   "metadata": {},
   "outputs": [],
   "source": [
    "num_epochs = 5"
   ]
  },
  {
   "cell_type": "code",
   "execution_count": 8,
   "id": "7f9fd584-de18-4a24-a7de-0130f4608f19",
   "metadata": {},
   "outputs": [],
   "source": [
    "criterion = nn.CrossEntropyLoss()\n",
    "\n",
    "h_optimizer = optim.Adam(hs_model.parameters(), lr=0.00005)\n",
    "o_optimizer = optim.Adam(os_model.parameters(), lr=0.00005)\n",
    "p_optimizer = optim.Adam(ps_model.parameters(), lr=0.0001)"
   ]
  },
  {
   "cell_type": "code",
   "execution_count": 9,
   "id": "b4031d6c-8d03-4cb2-b9d6-5d77743b9d3c",
   "metadata": {},
   "outputs": [
    {
     "name": "stderr",
     "output_type": "stream",
     "text": [
      "Epoch 1:  74%|███████████████████████▌        | 100/136 [04:06<01:22,  2.28s/it]"
     ]
    },
    {
     "name": "stdout",
     "output_type": "stream",
     "text": [
      "[1,   100] loss: 1.606\n",
      "Training accuracy: 0.4546875\n"
     ]
    },
    {
     "name": "stderr",
     "output_type": "stream",
     "text": [
      "Epoch 1: 100%|████████████████████████████████| 136/136 [05:27<00:00,  2.41s/it]\n",
      "Validation Epoch 1:   0%|                               | 0/544 [00:00<?, ?it/s][W NNPACK.cpp:61] Could not initialize NNPACK! Reason: Unsupported hardware.\n",
      "Validation Epoch 1: 100%|█████████████████████| 544/544 [00:32<00:00, 16.60it/s]\n"
     ]
    },
    {
     "name": "stdout",
     "output_type": "stream",
     "text": [
      "Epoch 1 | validation loss: 1.152 | accuracy: 0.5735294117647058\n",
      "[39, 42, 49, 37, 41, 36, 52, 37, 37, 47, 46, 36, 45]\n",
      "[39, 62, 17, 24, 43, 32, 87, 12, 27, 55, 72, 62, 12]\n"
     ]
    },
    {
     "name": "stderr",
     "output_type": "stream",
     "text": [
      "Epoch 2:  74%|███████████████████████▌        | 100/136 [03:35<01:16,  2.13s/it]"
     ]
    },
    {
     "name": "stdout",
     "output_type": "stream",
     "text": [
      "[2,   100] loss: 0.815\n",
      "Training accuracy: 0.693125\n"
     ]
    },
    {
     "name": "stderr",
     "output_type": "stream",
     "text": [
      "Epoch 2: 100%|████████████████████████████████| 136/136 [04:50<00:00,  2.14s/it]\n",
      "Validation Epoch 2: 100%|█████████████████████| 544/544 [00:30<00:00, 17.65it/s]\n"
     ]
    },
    {
     "name": "stdout",
     "output_type": "stream",
     "text": [
      "Epoch 2 | validation loss: 0.987 | accuracy: 0.6102941176470589\n",
      "[39, 42, 49, 37, 41, 36, 52, 37, 37, 47, 46, 36, 45]\n",
      "[14, 61, 27, 41, 43, 23, 62, 31, 42, 59, 55, 28, 58]\n"
     ]
    },
    {
     "name": "stderr",
     "output_type": "stream",
     "text": [
      "Epoch 3:  74%|███████████████████████▌        | 100/136 [04:41<01:47,  2.99s/it]"
     ]
    },
    {
     "name": "stdout",
     "output_type": "stream",
     "text": [
      "[3,   100] loss: 0.583\n",
      "Training accuracy: 0.7715625\n"
     ]
    },
    {
     "name": "stderr",
     "output_type": "stream",
     "text": [
      "Epoch 3: 100%|████████████████████████████████| 136/136 [06:30<00:00,  2.87s/it]\n",
      "Validation Epoch 3: 100%|█████████████████████| 544/544 [00:49<00:00, 10.99it/s]\n"
     ]
    },
    {
     "name": "stdout",
     "output_type": "stream",
     "text": [
      "Epoch 3 | validation loss: 1.033 | accuracy: 0.5863970588235294\n",
      "[39, 42, 49, 37, 41, 36, 52, 37, 37, 47, 46, 36, 45]\n",
      "[40, 30, 51, 44, 37, 56, 38, 41, 31, 46, 44, 32, 54]\n"
     ]
    },
    {
     "name": "stderr",
     "output_type": "stream",
     "text": [
      "Epoch 4:  74%|███████████████████████▌        | 100/136 [05:31<02:09,  3.60s/it]"
     ]
    },
    {
     "name": "stdout",
     "output_type": "stream",
     "text": [
      "[4,   100] loss: 0.431\n",
      "Training accuracy: 0.8315625\n"
     ]
    },
    {
     "name": "stderr",
     "output_type": "stream",
     "text": [
      "Epoch 4: 100%|████████████████████████████████| 136/136 [07:26<00:00,  3.28s/it]\n",
      "Validation Epoch 4: 100%|█████████████████████| 544/544 [00:45<00:00, 11.84it/s]\n"
     ]
    },
    {
     "name": "stdout",
     "output_type": "stream",
     "text": [
      "Epoch 4 | validation loss: 1.096 | accuracy: 0.5459558823529411\n",
      "[39, 42, 49, 37, 41, 36, 52, 37, 37, 47, 46, 36, 45]\n",
      "[66, 26, 63, 30, 41, 31, 37, 54, 29, 37, 51, 40, 39]\n"
     ]
    },
    {
     "name": "stderr",
     "output_type": "stream",
     "text": [
      "Epoch 5:  74%|███████████████████████▌        | 100/136 [03:52<01:13,  2.03s/it]"
     ]
    },
    {
     "name": "stdout",
     "output_type": "stream",
     "text": [
      "[5,   100] loss: 0.348\n",
      "Training accuracy: 0.8665625\n"
     ]
    },
    {
     "name": "stderr",
     "output_type": "stream",
     "text": [
      "Epoch 5: 100%|████████████████████████████████| 136/136 [05:08<00:00,  2.27s/it]\n",
      "Validation Epoch 5: 100%|█████████████████████| 544/544 [00:28<00:00, 19.17it/s]"
     ]
    },
    {
     "name": "stdout",
     "output_type": "stream",
     "text": [
      "Epoch 5 | validation loss: 1.198 | accuracy: 0.5698529411764706\n",
      "[39, 42, 49, 37, 41, 36, 52, 37, 37, 47, 46, 36, 45]\n",
      "[57, 28, 49, 45, 37, 38, 82, 8, 30, 50, 50, 29, 41]\n"
     ]
    },
    {
     "name": "stderr",
     "output_type": "stream",
     "text": [
      "\n"
     ]
    }
   ],
   "source": [
    "for epoch in range(num_epochs): \n",
    "\n",
    "    running_loss = 0.0\n",
    "    correct = 0\n",
    "    for i, data in enumerate(tqdm(train_loader, desc=f'Epoch {epoch + 1}')):\n",
    "        \n",
    "        h_input, o_input, p_input, y = data\n",
    "        \n",
    "        h_optimizer.zero_grad()\n",
    "        o_optimizer.zero_grad()\n",
    "        p_optimizer.zero_grad()\n",
    "\n",
    "        h_yhat = hs_model(h_input)\n",
    "        o_yhat = os_model(o_input)\n",
    "        p_yhat = ps_model(p_input)\n",
    "\n",
    "        yhat = (h_yhat + o_yhat + p_yhat) / 3.0\n",
    "        \n",
    "        loss = criterion(yhat, y)\n",
    "        loss.backward()\n",
    "        h_optimizer.step()\n",
    "        o_optimizer.step()\n",
    "        p_optimizer.step()\n",
    "\n",
    "        correct += sum(torch.argmax(yhat, 1)==torch.argmax(y, 1)).item()\n",
    "        running_loss += loss.item()\n",
    "        if i % 100 == 99:\n",
    "            print(f'[{epoch + 1}, {i + 1:5d}] loss: {running_loss / 100:.3f}')\n",
    "            print(f'Training accuracy: {correct / 3200}')\n",
    "            correct = 0\n",
    "            running_loss = 0.0\n",
    "            \n",
    "    val_loss = 0.0\n",
    "    val_steps = 0\n",
    "    hs_model.eval()\n",
    "    os_model.eval()\n",
    "    ps_model.eval()\n",
    "    \n",
    "    with torch.no_grad():\n",
    "        correct = 0\n",
    "        wrong = 0\n",
    "        action_real = [0] * 13\n",
    "        action_predict = [0] * 13\n",
    "        for val_data in tqdm(val_loader, desc=f'Validation Epoch {epoch + 1}'):\n",
    "            h_input, o_input, p_input, y = val_data\n",
    "            \n",
    "            h_yhat = hs_model(h_input)\n",
    "            o_yhat = os_model(o_input)\n",
    "            p_yhat = ps_model(p_input)\n",
    "\n",
    "            y_hat = (h_yhat + o_yhat + p_yhat) / 3.0\n",
    "\n",
    "            predicted = torch.argmax(y_hat.data, 1)\n",
    "            action_predict[predicted] += 1\n",
    "\n",
    "            true_labels = torch.argmax(y, 1)\n",
    "            action_real[true_labels] += 1\n",
    "\n",
    "            for i in range(len(true_labels)):\n",
    "                if predicted==true_labels:\n",
    "                    correct += 1\n",
    "                else:\n",
    "                    wrong += 1\n",
    "            loss = criterion(y_hat, y)\n",
    "            val_loss += loss.item()\n",
    "            val_steps += 1\n",
    "\n",
    "    avg_val_loss = val_loss / val_steps\n",
    "    accuracy = correct / (correct + wrong)\n",
    "    print(f'Epoch {epoch + 1} | validation loss: {avg_val_loss:.3f} | accuracy: {accuracy}')\n",
    "    print(action_real)\n",
    "    print(action_predict)"
   ]
  },
  {
   "cell_type": "code",
   "execution_count": 10,
   "id": "76d46d46-54d2-4640-bc9f-9ffa0b6cfb2c",
   "metadata": {},
   "outputs": [],
   "source": [
    "# save weights\n",
    "PATH = './hs_model_weights.pth'\n",
    "torch.save(hs_model.state_dict(), PATH)\n",
    "\n",
    "PATH = './os_model_weights.pth'\n",
    "torch.save(os_model.state_dict(), PATH)\n",
    "\n",
    "PATH = './ps_model_weights.pth'\n",
    "torch.save(ps_model.state_dict(), PATH)"
   ]
  },
  {
   "cell_type": "code",
   "execution_count": 11,
   "id": "94deecb0-dec2-4af2-8160-2791b3fcc1a1",
   "metadata": {},
   "outputs": [
    {
     "data": {
      "text/plain": [
       "Sequential(\n",
       "  (0): Conv2d(3, 32, kernel_size=(5, 5), stride=(1, 1))\n",
       "  (1): BatchNorm2d(32, eps=1e-05, momentum=0.1, affine=True, track_running_stats=True)\n",
       "  (2): ReLU()\n",
       "  (3): MaxPool2d(kernel_size=3, stride=2, padding=1, dilation=1, ceil_mode=False)\n",
       "  (4): Conv2d(32, 64, kernel_size=(5, 5), stride=(1, 1))\n",
       "  (5): BatchNorm2d(64, eps=1e-05, momentum=0.1, affine=True, track_running_stats=True)\n",
       "  (6): ReLU()\n",
       "  (7): MaxPool2d(kernel_size=3, stride=2, padding=1, dilation=1, ceil_mode=False)\n",
       "  (8): Conv2d(64, 32, kernel_size=(5, 5), stride=(1, 1))\n",
       "  (9): BatchNorm2d(32, eps=1e-05, momentum=0.1, affine=True, track_running_stats=True)\n",
       "  (10): ReLU()\n",
       "  (11): MaxPool2d(kernel_size=3, stride=2, padding=1, dilation=1, ceil_mode=False)\n",
       "  (12): Flatten(start_dim=1, end_dim=-1)\n",
       "  (13): Dropout(p=0.5, inplace=False)\n",
       "  (14): Linear(in_features=5408, out_features=4096, bias=True)\n",
       "  (15): ReLU()\n",
       "  (16): Dropout(p=0.5, inplace=False)\n",
       "  (17): Linear(in_features=4096, out_features=512, bias=True)\n",
       "  (18): ReLU()\n",
       "  (19): Dropout(p=0.5, inplace=False)\n",
       "  (20): Linear(in_features=512, out_features=13, bias=True)\n",
       "  (21): Sigmoid()\n",
       ")"
      ]
     },
     "execution_count": 11,
     "metadata": {},
     "output_type": "execute_result"
    }
   ],
   "source": [
    "# Load the saved weights\n",
    "PATH = './hs_model_weights.pth'\n",
    "hs_model.load_state_dict(torch.load(PATH))\n",
    "hs_model.eval()\n",
    "\n",
    "PATH = './os_model_weights.pth'\n",
    "os_model.load_state_dict(torch.load(PATH))\n",
    "os_model.eval()\n",
    "\n",
    "PATH = './ps_model_weights.pth'\n",
    "ps_model.load_state_dict(torch.load(PATH))\n",
    "ps_model.eval()"
   ]
  },
  {
   "cell_type": "code",
   "execution_count": 12,
   "id": "4f742200-314e-43b3-a024-03c177ed0212",
   "metadata": {},
   "outputs": [
    {
     "name": "stderr",
     "output_type": "stream",
     "text": [
      "100%|█████████████████████████████████████████| 544/544 [00:28<00:00, 19.02it/s]\n"
     ]
    },
    {
     "name": "stdout",
     "output_type": "stream",
     "text": [
      "testing loss: 1.217 | accuracy: 0.5680147058823529\n"
     ]
    },
    {
     "data": {
      "image/png": "[encoded data removed]",
      "text/plain": [
       "<Figure size 640x480 with 2 Axes>"
      ]
     },
     "metadata": {},
     "output_type": "display_data"
    }
   ],
   "source": [
    "from sklearn import metrics\n",
    "\n",
    "correct = 0\n",
    "wrong = 0\n",
    "action_real = [0] * 13\n",
    "action_predict = [0] * 13\n",
    "predictions = []\n",
    "labels = []\n",
    "test_loss = 0.0\n",
    "test_steps = 0\n",
    "for test_data in tqdm(test_loader):\n",
    "    h_input, o_input, p_input, y = test_data\n",
    "    \n",
    "    h_yhat = hs_model(h_input)\n",
    "    o_yhat = os_model(o_input)\n",
    "    p_yhat = ps_model(p_input)\n",
    "\n",
    "    y_hat = (h_yhat + o_yhat + p_yhat) / 3.0\n",
    "\n",
    "    predicted = torch.argmax(y_hat.data, 1)\n",
    "    action_predict[predicted] += 1\n",
    "    predictions.append(predicted.item())\n",
    "\n",
    "    true_labels = torch.argmax(y, 1)\n",
    "    action_real[true_labels] += 1\n",
    "    labels.append(true_labels.item())\n",
    "\n",
    "    for i in range(len(true_labels)):\n",
    "        if predicted==true_labels:\n",
    "            correct += 1\n",
    "        else:\n",
    "            wrong += 1\n",
    "    loss = criterion(y_hat, y)\n",
    "    test_loss += loss.item()\n",
    "    test_steps += 1\n",
    "\n",
    "avg_test_loss = test_loss / test_steps\n",
    "accuracy = correct / (correct + wrong)\n",
    "print(f'testing loss: {avg_test_loss:.3f} | accuracy: {accuracy}')\n",
    "\n",
    "cm = metrics.confusion_matrix(labels, predictions)\n",
    "cm_display = metrics.ConfusionMatrixDisplay(confusion_matrix = cm, display_labels = [i for i in range(13)])\n",
    "cm_display.plot(cmap = 'Blues')\n",
    "cm_display.figure_.savefig('confusion_matrix.png')\n",
    "plt.show()"
   ]
  },
  {
   "cell_type": "code",
   "execution_count": null,
   "id": "7ea5b461-3b6d-469f-8bae-78171aa7e509",
   "metadata": {},
   "outputs": [],
   "source": []
  }
 ],
 "metadata": {
  "kernelspec": {
   "display_name": "Python 3 (ipykernel)",
   "language": "python",
   "name": "python3"
  },
  "language_info": {
   "codemirror_mode": {
    "name": "ipython",
    "version": 3
   },
   "file_extension": ".py",
   "mimetype": "text/x-python",
   "name": "python",
   "nbconvert_exporter": "python",
   "pygments_lexer": "ipython3",
   "version": "3.8.19"
  }
 },
 "nbformat": 4,
 "nbformat_minor": 5
}
