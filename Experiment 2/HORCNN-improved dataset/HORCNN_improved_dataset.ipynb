{
 "cells": [
  {
   "cell_type": "markdown",
   "id": "7f92597f-563c-4e62-85d4-dac15e2893ee",
   "metadata": {},
   "source": [
    "## Packages"
   ]
  },
  {
   "cell_type": "code",
   "execution_count": 1,
   "id": "38c9b347-6589-47b4-ad65-014762e6f096",
   "metadata": {},
   "outputs": [],
   "source": [
    "import cv2\n",
    "import glob\n",
    "import json\n",
    "from PIL import Image\n",
    "\n",
    "import matplotlib.pyplot as plt\n",
    "import numpy as np\n",
    "from tqdm import tqdm\n",
    "\n",
    "import torch\n",
    "import torch.nn as nn\n",
    "import torch.nn.functional as F\n",
    "import torch.optim as optim\n",
    "import torchvision.transforms as transforms\n",
    "from torch.utils.data import Dataset, DataLoader\n",
    "from sklearn.model_selection import train_test_split\n",
    "\n",
    "torch.manual_seed(0)\n",
    "np.random.seed(0)"
   ]
  },
  {
   "cell_type": "markdown",
   "id": "24042c13-d714-4a54-b9c8-e93713157057",
   "metadata": {},
   "source": [
    "## Load and Preprocess Data"
   ]
  },
  {
   "cell_type": "code",
   "execution_count": 2,
   "id": "1c09a414-a641-4177-ad46-b47c881f640e",
   "metadata": {},
   "outputs": [],
   "source": [
    "class HOIDataset(Dataset):\n",
    "    def __init__(self, transform, data_list, label_list):\n",
    "        self.imgs_path = \"vcoco_dataset/\"\n",
    "        self.transform = transform\n",
    "        self.data = []\n",
    "        for i in range(len(data_list)):\n",
    "            img_path = data_list[i]\n",
    "            class_name = label_list[i]\n",
    "            agent_path = img_path + '/agent.jpg'\n",
    "            object_path = img_path + '/object.jpg'\n",
    "            union_path = img_path + '/union.jpg'\n",
    "            self.data.append([agent_path, object_path, union_path, class_name])\n",
    "\n",
    "        self.class_map = {\n",
    "            'carry': 0,\n",
    "            'catch': 1,\n",
    "            'lay': 2,\n",
    "            'ride': 3,\n",
    "            'sit': 4,\n",
    "            'skateboard': 5,\n",
    "            'ski': 6,\n",
    "            'snowboard': 7,\n",
    "            'surf': 8,\n",
    "            'talk_on_phone': 9,\n",
    "            'throw': 10,\n",
    "            'work_on_computer': 11\n",
    "        }\n",
    "    \n",
    "    def __len__(self):\n",
    "        return len(self.data)    \n",
    "    \n",
    "    def __getitem__(self, idx):\n",
    "        agent_path, object_path, union_path, class_name = self.data[idx]\n",
    "        agent_img = Image.open(agent_path)\n",
    "        object_img = Image.open(object_path)\n",
    "        union_img = Image.open(union_path)\n",
    "        \n",
    "        if self.transform:\n",
    "            agent_img = self.transform(agent_img)\n",
    "            object_img = self.transform(object_img)\n",
    "            union_img = self.transform(union_img)\n",
    "\n",
    "        trans = transforms.Compose([ \n",
    "            transforms.ToTensor() \n",
    "        ]) \n",
    "        agent = trans(agent_img)\n",
    "        object = trans(object_img)\n",
    "        union = trans(union_img)\n",
    "        class_id = self.class_map[class_name]\n",
    "        one_hot_class = torch.Tensor([0] * 12)\n",
    "        one_hot_class[class_id] += 1\n",
    "        \n",
    "        return agent, object, union, one_hot_class"
   ]
  },
  {
   "cell_type": "code",
   "execution_count": 3,
   "id": "7a9dded6-9004-488a-849e-a95321f4eb2c",
   "metadata": {},
   "outputs": [],
   "source": [
    "class PadToSquare:\n",
    "    def __call__(self, image):\n",
    "        w, h = image.size\n",
    "        max_wh = max(w, h)\n",
    "        hp = (max_wh - h) // 2\n",
    "        wp = (max_wh - w) // 2\n",
    "        padding = (wp, hp, wp, hp)\n",
    "        return transforms.functional.pad(image, padding, fill=0, padding_mode='constant')\n",
    "    \n",
    "class Rescale:\n",
    "    def __init__(self, output_size):\n",
    "        assert isinstance(output_size, (int, tuple))\n",
    "        self.output_size = output_size\n",
    "\n",
    "    def __call__(self, image):\n",
    "        return transforms.functional.resize(image, self.output_size)\n",
    "\n",
    "class PadAndRescale:\n",
    "    def __init__(self, output_size):\n",
    "        self.pad = PadToSquare()\n",
    "        self.rescale = Rescale(output_size)\n",
    "\n",
    "    def __call__(self, image):\n",
    "        image = self.pad(image)\n",
    "        image = self.rescale(image)\n",
    "        return image\n"
   ]
  },
  {
   "cell_type": "code",
   "execution_count": 4,
   "id": "c851bb72-6aea-4983-b02a-afa6e3a4dc27",
   "metadata": {},
   "outputs": [
    {
     "name": "stdout",
     "output_type": "stream",
     "text": [
      "class_name:  carry\n",
      "num_img:  418\n",
      "class_name:  catch\n",
      "num_img:  418\n",
      "class_name:  lay\n",
      "num_img:  418\n",
      "class_name:  ride\n",
      "num_img:  418\n",
      "class_name:  sit\n",
      "num_img:  418\n",
      "class_name:  skateboard\n",
      "num_img:  418\n",
      "class_name:  ski\n",
      "num_img:  418\n",
      "class_name:  snowboard\n",
      "num_img:  418\n",
      "class_name:  surf\n",
      "num_img:  418\n",
      "class_name:  talk_on_phone\n",
      "num_img:  418\n",
      "class_name:  throw\n",
      "num_img:  418\n",
      "class_name:  work_on_computer\n",
      "num_img:  418\n"
     ]
    }
   ],
   "source": [
    "data_list = []\n",
    "label_list = []\n",
    "X_catch_throw = []\n",
    "X_sit_ride = []\n",
    "y_catch_throw = []\n",
    "y_sit_ride = []\n",
    "imgs_path = \"training_data/\"\n",
    "file_list = glob.glob(imgs_path + \"*\")\n",
    "# skateboard_snowboard_set = set()\n",
    "ride_set = set()\n",
    "\n",
    "'''\n",
    "for class_path in file_list:\n",
    "    class_name = class_path.split(\"\\\\\")[-1]\n",
    "    if class_name=='skateboard' or class_name=='snowboard':\n",
    "        for img_path in glob.glob(class_path + \"/*\"):\n",
    "            skateboard_snowboard_set.add(img_path.split(\"\\\\\")[-1])\n",
    "    elif class_name=='ride':\n",
    "        for img_path in glob.glob(class_path + \"/*\"):\n",
    "            ride_set.add(img_path.split(\"\\\\\")[-1])\n",
    "'''\n",
    "\n",
    "skipped_action = ['drink',  'kick', 'point', 'read', 'look', 'hold', 'jump']\n",
    "for class_path in file_list:\n",
    "    class_name = class_path.split(\"\\\\\")[-1]\n",
    "    '''\n",
    "    if len(glob.glob(class_path + \"/*\")) < 300:\n",
    "        continue\n",
    "    '''\n",
    "    if class_name in skipped_action:\n",
    "        continue\n",
    "    num_img = 0\n",
    "    for img_path in glob.glob(class_path + \"/*\"):\n",
    "        \n",
    "        if class_name=='sit' and img_path.split(\"\\\\\")[-1] in ride_set:\n",
    "            print(img_path)\n",
    "            continue\n",
    "        '''\n",
    "        if class_name in ['catch', 'throw']:\n",
    "            print(img_path)\n",
    "            X_catch_throw.append(img_path)\n",
    "            y_catch_throw.append(class_name)\n",
    "        elif class_name in ['sit', 'ride']:\n",
    "            X_sit_ride.append(img_path)\n",
    "            y_sit_ride.append(class_name)\n",
    "        '''\n",
    "        \n",
    "        data_list.append(img_path)\n",
    "        label_list.append(class_name)\n",
    "        num_img += 1\n",
    "        if num_img > 417:\n",
    "            break\n",
    "    print(\"class_name: \", class_name)\n",
    "    print(\"num_img: \", num_img)\n",
    "\n",
    "# Split the dataset\n",
    "train_data, test_data, train_labels, test_labels = train_test_split(data_list, label_list, test_size=0.1, random_state=42)\n",
    "# train_data, val_data, train_labels, val_labels = train_test_split(train_data, train_labels, test_size=(1/9), random_state=42)\n",
    "\n",
    "# Create HOIDatasets\n",
    "transform = PadAndRescale(output_size=(128, 128))\n",
    "train_dataset = HOIDataset(transform = transform, data_list = train_data, label_list = train_labels)\n",
    "test_dataset = HOIDataset(transform = transform, data_list = test_data, label_list = test_labels)\n",
    "# val_dataset = HOIDataset(transform = transform, data_list = val_data, label_list = val_labels)\n",
    "\n",
    "# Create DataLoaders\n",
    "train_loader = DataLoader(train_dataset, batch_size=32, shuffle=True)\n",
    "# val_loader = DataLoader(val_dataset, batch_size=1, shuffle=False)\n",
    "test_loader = DataLoader(test_dataset, batch_size=1, shuffle=False)"
   ]
  },
  {
   "cell_type": "markdown",
   "id": "18d4e281-23c3-42a0-97ad-693a29d897be",
   "metadata": {},
   "source": [
    "## Model"
   ]
  },
  {
   "cell_type": "markdown",
   "id": "95053485-f24f-41b7-b322-a9d8cefd5288",
   "metadata": {},
   "source": [
    "convlayers = nn.Sequential(\n",
    "    nn.Conv2d(3, 96, kernel_size=11, stride=4, padding=5),\n",
    "    nn.BatchNorm2d(96),\n",
    "    nn.MaxPool2d(kernel_size=3, stride=2, padding=1),\n",
    "    nn.ReLU(),\n",
    "    # nn.LocalResponseNorm(size=5, alpha=0.0001, beta=0.75),\n",
    "\n",
    "    nn.Conv2d(96, 256, kernel_size=5, stride=1, padding=2, groups=2),\n",
    "    nn.BatchNorm2d(256),\n",
    "    nn.MaxPool2d(kernel_size=3, stride=2, padding=1),\n",
    "    nn.ReLU(),\n",
    "    # nn.LocalResponseNorm(size=5, alpha=0.0001, beta=0.75),\n",
    "\n",
    "    nn.Conv2d(256, 384, kernel_size=3, stride=1, padding=1),\n",
    "    nn.BatchNorm2d(384),\n",
    "    nn.ReLU(),\n",
    "    \n",
    "    nn.Conv2d(384, 384, kernel_size=3, stride=1, padding=1, groups=2),\n",
    "    nn.BatchNorm2d(384),\n",
    "    nn.ReLU(),\n",
    "    \n",
    "    nn.Conv2d(384, 256, kernel_size=3, stride=1, padding=1, groups=2),\n",
    "    nn.BatchNorm2d(256),\n",
    "    nn.ReLU()\n",
    ")"
   ]
  },
  {
   "cell_type": "markdown",
   "id": "246fbe1e-d4da-4f52-ba1e-280c898ca706",
   "metadata": {},
   "source": [
    "### Human Stream"
   ]
  },
  {
   "cell_type": "markdown",
   "id": "f51aeefb-87bc-4e0b-9c70-94b3e42b7a4e",
   "metadata": {
    "scrolled": true
   },
   "source": [
    "import copy\n",
    "hs_model = copy.deepcopy(convlayers)\n",
    "hs_model.append(nn.MaxPool2d(kernel_size=3, stride=2, padding=1))\n",
    "hs_model.append(nn.Flatten())\n",
    "hs_model.append(nn.Linear(256 * 4 * 4, 4096))\n",
    "hs_model.append(nn.ReLU())\n",
    "hs_model.append(nn.Dropout(p=0.5))\n",
    "hs_model.append(nn.Linear(4096, 600))\n",
    "hs_model.append(nn.ReLU())\n",
    "hs_model.append(nn.Dropout(p=0.5))\n",
    "hs_model.append(nn.Linear(600, 12))\n",
    "hs_model.append(nn.Sigmoid())"
   ]
  },
  {
   "cell_type": "markdown",
   "id": "8cbc04a7-16f3-4220-ae83-e1e12a658709",
   "metadata": {},
   "source": [
    "### Object Stream"
   ]
  },
  {
   "cell_type": "markdown",
   "id": "3a20cb1b-781f-41d3-8da6-d7738d197e7e",
   "metadata": {
    "scrolled": true
   },
   "source": [
    "os_model = copy.deepcopy(convlayers)\n",
    "os_model.append(nn.MaxPool2d(kernel_size=3, stride=2, padding=1))\n",
    "os_model.append(nn.Flatten())\n",
    "os_model.append(nn.Linear(256 * 4 * 4, 4096))\n",
    "os_model.append(nn.ReLU())\n",
    "os_model.append(nn.Dropout(p=0.5))\n",
    "os_model.append(nn.Linear(4096, 600))\n",
    "os_model.append(nn.ReLU())\n",
    "os_model.append(nn.Dropout(p=0.5))\n",
    "os_model.append(nn.Linear(600, 12))\n",
    "os_model.append(nn.Sigmoid())"
   ]
  },
  {
   "cell_type": "markdown",
   "id": "c29a2c76-62fc-4f14-ae6d-10c2e45388b9",
   "metadata": {},
   "source": [
    "### Pairwise Stream"
   ]
  },
  {
   "cell_type": "markdown",
   "id": "b82f8cc4-b306-4acc-a173-28e3194530dd",
   "metadata": {},
   "source": [
    "'''\n",
    "ps_model = nn.Sequential(\n",
    "    nn.Conv2d(3, 96, kernel_size=5),\n",
    "    nn.BatchNorm2d(96),\n",
    "    nn.ReLU(),\n",
    "    nn.MaxPool2d(kernel_size=3, stride=2, padding=1),\n",
    "    nn.Conv2d(96, 64, kernel_size=5),\n",
    "    nn.BatchNorm2d(64),\n",
    "    nn.ReLU(),\n",
    "    nn.MaxPool2d(kernel_size=3, stride=2, padding=1),\n",
    "    nn.Conv2d(64, 32, kernel_size=5),\n",
    "    nn.BatchNorm2d(32),\n",
    "    nn.ReLU(),\n",
    "    nn.MaxPool2d(kernel_size=3, stride=2, padding=1),\n",
    "    nn.Flatten(),\n",
    "    nn.Linear(5408, 600),\n",
    "    nn.ReLU(),\n",
    "    nn.Linear(600, 12),\n",
    "    nn.Sigmoid()\n",
    ")\n",
    "'''\n",
    "ps_model = copy.deepcopy(convlayers)\n",
    "ps_model.append(nn.MaxPool2d(kernel_size=3, stride=2, padding=1))\n",
    "ps_model.append(nn.Flatten())\n",
    "ps_model.append(nn.Linear(256 * 4 * 4, 4096))\n",
    "ps_model.append(nn.ReLU())\n",
    "ps_model.append(nn.Dropout(p=0.5))\n",
    "ps_model.append(nn.Linear(4096, 600))\n",
    "ps_model.append(nn.ReLU())\n",
    "ps_model.append(nn.Dropout(p=0.5))\n",
    "ps_model.append(nn.Linear(600, 13))\n",
    "ps_model.append(nn.Sigmoid())"
   ]
  },
  {
   "cell_type": "markdown",
   "id": "06ee0e07-333c-4b7a-ab50-838149f6f5ca",
   "metadata": {},
   "source": [
    "## Training"
   ]
  },
  {
   "cell_type": "markdown",
   "id": "85121505-1bed-4aad-855d-4923522297d3",
   "metadata": {},
   "source": [
    "### Hyperparameters"
   ]
  },
  {
   "cell_type": "markdown",
   "id": "bafee4a1-e3c2-4c08-a36f-f288cb60b80f",
   "metadata": {},
   "source": [
    "num_epochs = 20"
   ]
  },
  {
   "cell_type": "markdown",
   "id": "6da4a372-bf75-4d70-9da4-0b73867f2a90",
   "metadata": {},
   "source": [
    "criterion = nn.CrossEntropyLoss()\n",
    "h_optimizer = optim.Adam(hs_model.parameters(), lr=0.0001)\n",
    "o_optimizer = optim.Adam(os_model.parameters(), lr=0.0001)\n",
    "p_optimizer = optim.Adam(ps_model.parameters(), lr=0.0001)"
   ]
  },
  {
   "cell_type": "markdown",
   "id": "abcdf380-58c9-4d79-997f-f26922290039",
   "metadata": {
    "scrolled": true
   },
   "source": [
    "for epoch in range(num_epochs): \n",
    "\n",
    "    running_loss = 0.0\n",
    "    for i, data in enumerate(tqdm(train_loader, desc=f'Epoch {epoch + 1}')):\n",
    "        \n",
    "        h_input, o_input, p_input, y = data\n",
    "        \n",
    "        h_optimizer.zero_grad()\n",
    "        o_optimizer.zero_grad()\n",
    "        p_optimizer.zero_grad()\n",
    "\n",
    "        h_yhat = hs_model(h_input)\n",
    "        o_yhat = os_model(o_input)\n",
    "        p_yhat = ps_model(p_input)\n",
    "\n",
    "        yhat = (h_yhat + o_yhat + p_yhat) / 3.0\n",
    "        \n",
    "        loss = criterion(yhat, y)\n",
    "        loss.backward()\n",
    "        h_optimizer.step()\n",
    "        o_optimizer.step()\n",
    "        p_optimizer.step()\n",
    "        \n",
    "        running_loss += loss.item()\n",
    "        if i % 100 == 99:\n",
    "            print(f'[{epoch + 1}, {i + 1:5d}] loss: {running_loss / 100:.3f}')\n",
    "            running_loss = 0.0\n",
    "            \n",
    "    val_loss = 0.0\n",
    "    val_steps = 0\n",
    "    hs_model.eval()\n",
    "    os_model.eval()\n",
    "    ps_model.eval()\n",
    "    \n",
    "    with torch.no_grad():\n",
    "        correct = 0\n",
    "        wrong = 0\n",
    "        action_real = [0] * 13\n",
    "        action_predict = [0] * 13\n",
    "        for val_data in tqdm(test_loader, desc=f'Validation Epoch {epoch + 1}'):\n",
    "            h_input, o_input, p_input, y = val_data\n",
    "            \n",
    "            h_yhat = hs_model(h_input)\n",
    "            o_yhat = os_model(o_input)\n",
    "            p_yhat = ps_model(p_input)\n",
    "\n",
    "            y_hat = (h_yhat + o_yhat + p_yhat) / 3.0\n",
    "\n",
    "            predicted = torch.argmax(y_hat.data, 1)\n",
    "            action_predict[predicted] += 1\n",
    "\n",
    "            true_labels = torch.argmax(y, 1)\n",
    "            action_real[true_labels] += 1\n",
    "\n",
    "            for i in range(len(true_labels)):\n",
    "                if predicted==true_labels:\n",
    "                    correct += 1\n",
    "                else:\n",
    "                    wrong += 1\n",
    "            loss = criterion(y_hat, y)\n",
    "            val_loss += loss.item()\n",
    "            val_steps += 1\n",
    "\n",
    "    avg_val_loss = val_loss / val_steps\n",
    "    accuracy = correct / (correct + wrong)\n",
    "    print(f'Epoch {epoch + 1} | validation loss: {avg_val_loss:.3f} | accuracy: {accuracy}')\n",
    "    print(action_real)\n",
    "    print(action_predict)"
   ]
  },
  {
   "cell_type": "markdown",
   "id": "cddf1ddc-1dac-45a1-973c-c6a54045f8d5",
   "metadata": {
    "scrolled": true
   },
   "source": [
    "# Load the saved weights\n",
    "PATH = './hs_model_weights.pth'\n",
    "hs_model.load_state_dict(torch.load(PATH))\n",
    "hs_model.eval()\n",
    "\n",
    "PATH = './os_model_weights.pth'\n",
    "os_model.load_state_dict(torch.load(PATH))\n",
    "os_model.eval()\n",
    "\n",
    "PATH = './ps_model_weights.pth'\n",
    "ps_model.load_state_dict(torch.load(PATH))\n",
    "ps_model.eval()"
   ]
  },
  {
   "cell_type": "markdown",
   "id": "91b41b54-dadd-4ab2-b346-2ba1a9a1ee31",
   "metadata": {},
   "source": [
    "## Evaluation"
   ]
  },
  {
   "cell_type": "markdown",
   "id": "1220f194-8adc-4a30-81e1-7e79abd73535",
   "metadata": {},
   "source": [
    "correct = 0\n",
    "wrong = 0\n",
    "count = 0\n",
    "\n",
    "for i, data in enumerate(test_loader):\n",
    "    \n",
    "    h_input, o_input, p_input, y = data\n",
    "    \n",
    "    h_yhat = hs_model(h_input)\n",
    "    o_yhat = os_model(o_input)\n",
    "    p_yhat = ps_model(p_input)\n",
    "    \n",
    "    yhat = (h_yhat + o_yhat + p_yhat) / 3.0\n",
    "    \n",
    "    # Get the predicted class for each input in the batch\n",
    "    predicted = torch.argmax(yhat.data, 1)\n",
    "\n",
    "    # Get the correct class indices\n",
    "    true_labels = torch.argmax(y, 1)\n",
    "\n",
    "    if predicted==true_labels:\n",
    "        correct += 1\n",
    "    else:\n",
    "        wrong += 1\n",
    "\n",
    "accuracy = correct / (correct + wrong)\n",
    "print(f\"correct: {correct}, wrong: {wrong}, accuracy: {accuracy}\")\n",
    "        "
   ]
  },
  {
   "cell_type": "code",
   "execution_count": 5,
   "id": "1fb5d8fc-1d19-44e2-aa0b-740445511fe4",
   "metadata": {},
   "outputs": [
    {
     "name": "stderr",
     "output_type": "stream",
     "text": [
      "C:\\Users\\Microsoft\\Anaconda\\envs\\AI\\Lib\\site-packages\\torchvision\\models\\_utils.py:208: UserWarning: The parameter 'pretrained' is deprecated since 0.13 and may be removed in the future, please use 'weights' instead.\n",
      "  warnings.warn(\n",
      "C:\\Users\\Microsoft\\Anaconda\\envs\\AI\\Lib\\site-packages\\torchvision\\models\\_utils.py:223: UserWarning: Arguments other than a weight enum or `None` for 'weights' are deprecated since 0.13 and may be removed in the future. The current behavior is equivalent to passing `weights=AlexNet_Weights.IMAGENET1K_V1`. You can also use `weights=AlexNet_Weights.DEFAULT` to get the most up-to-date weights.\n",
      "  warnings.warn(msg)\n"
     ]
    },
    {
     "data": {
      "text/plain": [
       "AlexNet(\n",
       "  (features): Sequential(\n",
       "    (0): Conv2d(3, 64, kernel_size=(11, 11), stride=(4, 4), padding=(2, 2))\n",
       "    (1): ReLU(inplace=True)\n",
       "    (2): MaxPool2d(kernel_size=3, stride=2, padding=0, dilation=1, ceil_mode=False)\n",
       "    (3): Conv2d(64, 192, kernel_size=(5, 5), stride=(1, 1), padding=(2, 2))\n",
       "    (4): ReLU(inplace=True)\n",
       "    (5): MaxPool2d(kernel_size=3, stride=2, padding=0, dilation=1, ceil_mode=False)\n",
       "    (6): Conv2d(192, 384, kernel_size=(3, 3), stride=(1, 1), padding=(1, 1))\n",
       "    (7): ReLU(inplace=True)\n",
       "    (8): Conv2d(384, 256, kernel_size=(3, 3), stride=(1, 1), padding=(1, 1))\n",
       "    (9): ReLU(inplace=True)\n",
       "    (10): Conv2d(256, 256, kernel_size=(3, 3), stride=(1, 1), padding=(1, 1))\n",
       "    (11): ReLU(inplace=True)\n",
       "    (12): MaxPool2d(kernel_size=3, stride=2, padding=0, dilation=1, ceil_mode=False)\n",
       "  )\n",
       "  (avgpool): AdaptiveAvgPool2d(output_size=(6, 6))\n",
       "  (classifier): Sequential(\n",
       "    (0): Dropout(p=0.5, inplace=False)\n",
       "    (1): Linear(in_features=9216, out_features=4096, bias=True)\n",
       "    (2): ReLU(inplace=True)\n",
       "    (3): Dropout(p=0.5, inplace=False)\n",
       "    (4): Linear(in_features=4096, out_features=4096, bias=True)\n",
       "    (5): ReLU(inplace=True)\n",
       "    (6): Linear(in_features=4096, out_features=12, bias=True)\n",
       "  )\n",
       ")"
      ]
     },
     "execution_count": 5,
     "metadata": {},
     "output_type": "execute_result"
    }
   ],
   "source": [
    "from torchvision import models\n",
    "net = models.alexnet(pretrained=True)\n",
    "\n",
    "net.classifier[6] = nn.Linear(in_features=4096, out_features=12, bias=True)\n",
    "\n",
    "net.train()"
   ]
  },
  {
   "cell_type": "code",
   "execution_count": 6,
   "id": "c9b36238-56b5-4de4-aee6-4f4b90c3ca68",
   "metadata": {},
   "outputs": [],
   "source": [
    "import copy\n",
    "hs_model = copy.deepcopy(net)\n",
    "os_model = copy.deepcopy(net)\n",
    "# ps_model = copy.deepcopy(net)\n",
    "ps_model = nn.Sequential(\n",
    "    nn.Conv2d(3, 32, kernel_size=5),\n",
    "    nn.BatchNorm2d(32),\n",
    "    nn.ReLU(),\n",
    "    nn.MaxPool2d(kernel_size=3, stride=2, padding=1),\n",
    "    nn.Conv2d(32, 64, kernel_size=5),\n",
    "    nn.BatchNorm2d(64),\n",
    "    nn.ReLU(),\n",
    "    nn.MaxPool2d(kernel_size=3, stride=2, padding=1),\n",
    "    nn.Conv2d(64, 32, kernel_size=5),\n",
    "    nn.BatchNorm2d(32),\n",
    "    nn.ReLU(),\n",
    "    nn.MaxPool2d(kernel_size=3, stride=2, padding=1),\n",
    "    nn.Flatten(),\n",
    "    nn.Dropout(p=0.5),\n",
    "    nn.Linear(5408, 4096),\n",
    "    nn.ReLU(),\n",
    "    nn.Dropout(p=0.5),\n",
    "    nn.Linear(4096, 512),\n",
    "    nn.ReLU(),\n",
    "    nn.Dropout(p=0.5),\n",
    "    nn.Linear(512, 12),\n",
    "    nn.Sigmoid()\n",
    ")"
   ]
  },
  {
   "cell_type": "code",
   "execution_count": 7,
   "id": "d197863f-6c1c-4aa1-8ad6-f094ae3fc5d9",
   "metadata": {},
   "outputs": [],
   "source": [
    "num_epochs = 5"
   ]
  },
  {
   "cell_type": "code",
   "execution_count": 8,
   "id": "7f9fd584-de18-4a24-a7de-0130f4608f19",
   "metadata": {},
   "outputs": [],
   "source": [
    "criterion = nn.CrossEntropyLoss()\n",
    "\n",
    "h_optimizer = optim.Adam(hs_model.parameters(), lr=0.0001)\n",
    "o_optimizer = optim.Adam(os_model.parameters(), lr=0.0001)\n",
    "p_optimizer = optim.Adam(ps_model.parameters(), lr=0.0001)"
   ]
  },
  {
   "cell_type": "code",
   "execution_count": 9,
   "id": "b4031d6c-8d03-4cb2-b9d6-5d77743b9d3c",
   "metadata": {},
   "outputs": [
    {
     "name": "stderr",
     "output_type": "stream",
     "text": [
      "Epoch 1:  70%|██████████████████████████████████████████████████                     | 100/142 [03:49<01:29,  2.13s/it]"
     ]
    },
    {
     "name": "stdout",
     "output_type": "stream",
     "text": [
      "[1,   100] loss: 1.365\n",
      "Training accuracy: 0.51\n"
     ]
    },
    {
     "name": "stderr",
     "output_type": "stream",
     "text": [
      "Epoch 1: 100%|███████████████████████████████████████████████████████████████████████| 142/142 [05:16<00:00,  2.23s/it]\n",
      "Validation Epoch 1: 100%|████████████████████████████████████████████████████████████| 502/502 [00:23<00:00, 21.22it/s]\n"
     ]
    },
    {
     "name": "stdout",
     "output_type": "stream",
     "text": [
      "Epoch 1 | validation loss: 0.986 | accuracy: 0.6195219123505976\n",
      "[47, 49, 42, 48, 40, 40, 43, 43, 36, 39, 41, 34]\n",
      "[49, 51, 18, 63, 16, 57, 56, 33, 24, 51, 25, 59]\n"
     ]
    },
    {
     "name": "stderr",
     "output_type": "stream",
     "text": [
      "Epoch 2:  70%|██████████████████████████████████████████████████                     | 100/142 [03:28<01:30,  2.15s/it]"
     ]
    },
    {
     "name": "stdout",
     "output_type": "stream",
     "text": [
      "[2,   100] loss: 0.658\n",
      "Training accuracy: 0.755625\n"
     ]
    },
    {
     "name": "stderr",
     "output_type": "stream",
     "text": [
      "Epoch 2: 100%|███████████████████████████████████████████████████████████████████████| 142/142 [04:54<00:00,  2.07s/it]\n",
      "Validation Epoch 2: 100%|████████████████████████████████████████████████████████████| 502/502 [00:25<00:00, 19.56it/s]\n"
     ]
    },
    {
     "name": "stdout",
     "output_type": "stream",
     "text": [
      "Epoch 2 | validation loss: 0.887 | accuracy: 0.6812749003984063\n",
      "[47, 49, 42, 48, 40, 40, 43, 43, 36, 39, 41, 34]\n",
      "[19, 41, 46, 54, 39, 52, 42, 52, 44, 42, 36, 35]\n"
     ]
    },
    {
     "name": "stderr",
     "output_type": "stream",
     "text": [
      "Epoch 3:  70%|██████████████████████████████████████████████████                     | 100/142 [03:37<01:30,  2.16s/it]"
     ]
    },
    {
     "name": "stdout",
     "output_type": "stream",
     "text": [
      "[3,   100] loss: 0.428\n",
      "Training accuracy: 0.83875\n"
     ]
    },
    {
     "name": "stderr",
     "output_type": "stream",
     "text": [
      "Epoch 3: 100%|███████████████████████████████████████████████████████████████████████| 142/142 [05:08<00:00,  2.17s/it]\n",
      "Validation Epoch 3: 100%|████████████████████████████████████████████████████████████| 502/502 [00:25<00:00, 19.36it/s]\n"
     ]
    },
    {
     "name": "stdout",
     "output_type": "stream",
     "text": [
      "Epoch 3 | validation loss: 0.905 | accuracy: 0.6533864541832669\n",
      "[47, 49, 42, 48, 40, 40, 43, 43, 36, 39, 41, 34]\n",
      "[63, 33, 37, 35, 45, 35, 56, 40, 40, 30, 52, 36]\n"
     ]
    },
    {
     "name": "stderr",
     "output_type": "stream",
     "text": [
      "Epoch 4:  70%|██████████████████████████████████████████████████                     | 100/142 [03:41<01:39,  2.36s/it]"
     ]
    },
    {
     "name": "stdout",
     "output_type": "stream",
     "text": [
      "[4,   100] loss: 0.253\n",
      "Training accuracy: 0.9003125\n"
     ]
    },
    {
     "name": "stderr",
     "output_type": "stream",
     "text": [
      "Epoch 4: 100%|███████████████████████████████████████████████████████████████████████| 142/142 [05:12<00:00,  2.20s/it]\n",
      "Validation Epoch 4: 100%|████████████████████████████████████████████████████████████| 502/502 [00:24<00:00, 20.12it/s]\n"
     ]
    },
    {
     "name": "stdout",
     "output_type": "stream",
     "text": [
      "Epoch 4 | validation loss: 0.951 | accuracy: 0.701195219123506\n",
      "[47, 49, 42, 48, 40, 40, 43, 43, 36, 39, 41, 34]\n",
      "[47, 55, 20, 52, 29, 59, 46, 41, 34, 46, 38, 35]\n"
     ]
    },
    {
     "name": "stderr",
     "output_type": "stream",
     "text": [
      "Epoch 5:  70%|██████████████████████████████████████████████████                     | 100/142 [03:47<01:34,  2.26s/it]"
     ]
    },
    {
     "name": "stdout",
     "output_type": "stream",
     "text": [
      "[5,   100] loss: 0.228\n",
      "Training accuracy: 0.92625\n"
     ]
    },
    {
     "name": "stderr",
     "output_type": "stream",
     "text": [
      "Epoch 5: 100%|███████████████████████████████████████████████████████████████████████| 142/142 [05:24<00:00,  2.28s/it]\n",
      "Validation Epoch 5: 100%|████████████████████████████████████████████████████████████| 502/502 [00:23<00:00, 21.37it/s]"
     ]
    },
    {
     "name": "stdout",
     "output_type": "stream",
     "text": [
      "Epoch 5 | validation loss: 0.953 | accuracy: 0.6792828685258964\n",
      "[47, 49, 42, 48, 40, 40, 43, 43, 36, 39, 41, 34]\n",
      "[48, 46, 36, 39, 58, 44, 42, 40, 41, 40, 39, 29]\n"
     ]
    },
    {
     "name": "stderr",
     "output_type": "stream",
     "text": [
      "\n"
     ]
    }
   ],
   "source": [
    "for epoch in range(num_epochs): \n",
    "\n",
    "    running_loss = 0.0\n",
    "    correct = 0\n",
    "    for i, data in enumerate(tqdm(train_loader, desc=f'Epoch {epoch + 1}')):\n",
    "        \n",
    "        h_input, o_input, p_input, y = data\n",
    "        \n",
    "        h_optimizer.zero_grad()\n",
    "        o_optimizer.zero_grad()\n",
    "        p_optimizer.zero_grad()\n",
    "\n",
    "        h_yhat = hs_model(h_input)\n",
    "        o_yhat = os_model(o_input)\n",
    "        p_yhat = ps_model(p_input)\n",
    "\n",
    "        yhat = (h_yhat + o_yhat + p_yhat) / 3.0\n",
    "        \n",
    "        loss = criterion(yhat, y)\n",
    "        loss.backward()\n",
    "        h_optimizer.step()\n",
    "        o_optimizer.step()\n",
    "        p_optimizer.step()\n",
    "\n",
    "        correct += sum(torch.argmax(yhat, 1)==torch.argmax(y, 1)).item()\n",
    "        running_loss += loss.item()\n",
    "        if i % 100 == 99:\n",
    "            print(f'[{epoch + 1}, {i + 1:5d}] loss: {running_loss / 100:.3f}')\n",
    "            print(f'Training accuracy: {correct / 3200}')\n",
    "            correct = 0\n",
    "            running_loss = 0.0\n",
    "            \n",
    "    val_loss = 0.0\n",
    "    val_steps = 0\n",
    "    hs_model.eval()\n",
    "    os_model.eval()\n",
    "    ps_model.eval()\n",
    "    \n",
    "    with torch.no_grad():\n",
    "        correct = 0\n",
    "        wrong = 0\n",
    "        action_real = [0] * 12\n",
    "        action_predict = [0] * 12\n",
    "        for val_data in tqdm(test_loader, desc=f'Validation Epoch {epoch + 1}'):\n",
    "            h_input, o_input, p_input, y = val_data\n",
    "            \n",
    "            h_yhat = hs_model(h_input)\n",
    "            o_yhat = os_model(o_input)\n",
    "            p_yhat = ps_model(p_input)\n",
    "\n",
    "            y_hat = (h_yhat + o_yhat + p_yhat) / 3.0\n",
    "\n",
    "            predicted = torch.argmax(y_hat.data, 1)\n",
    "            action_predict[predicted] += 1\n",
    "\n",
    "            true_labels = torch.argmax(y, 1)\n",
    "            action_real[true_labels] += 1\n",
    "\n",
    "            for i in range(len(true_labels)):\n",
    "                if predicted==true_labels:\n",
    "                    correct += 1\n",
    "                else:\n",
    "                    wrong += 1\n",
    "            loss = criterion(y_hat, y)\n",
    "            val_loss += loss.item()\n",
    "            val_steps += 1\n",
    "\n",
    "    avg_val_loss = val_loss / val_steps\n",
    "    accuracy = correct / (correct + wrong)\n",
    "    print(f'Epoch {epoch + 1} | validation loss: {avg_val_loss:.3f} | accuracy: {accuracy}')\n",
    "    print(action_real)\n",
    "    print(action_predict)"
   ]
  },
  {
   "cell_type": "code",
   "execution_count": 10,
   "id": "76d46d46-54d2-4640-bc9f-9ffa0b6cfb2c",
   "metadata": {},
   "outputs": [],
   "source": [
    "# save weights\n",
    "PATH = './hs_model_weights_improved_dataset.pth'\n",
    "torch.save(hs_model.state_dict(), PATH)\n",
    "\n",
    "PATH = './os_model_weights_improved_dataset.pth'\n",
    "torch.save(os_model.state_dict(), PATH)\n",
    "\n",
    "PATH = './ps_model_weights_improved_dataset.pth'\n",
    "torch.save(ps_model.state_dict(), PATH)"
   ]
  },
  {
   "cell_type": "code",
   "execution_count": 11,
   "id": "1980a0f1-ddc9-48a0-b6ec-0e32297e7726",
   "metadata": {},
   "outputs": [
    {
     "data": {
      "text/plain": [
       "Sequential(\n",
       "  (0): Conv2d(3, 32, kernel_size=(5, 5), stride=(1, 1))\n",
       "  (1): BatchNorm2d(32, eps=1e-05, momentum=0.1, affine=True, track_running_stats=True)\n",
       "  (2): ReLU()\n",
       "  (3): MaxPool2d(kernel_size=3, stride=2, padding=1, dilation=1, ceil_mode=False)\n",
       "  (4): Conv2d(32, 64, kernel_size=(5, 5), stride=(1, 1))\n",
       "  (5): BatchNorm2d(64, eps=1e-05, momentum=0.1, affine=True, track_running_stats=True)\n",
       "  (6): ReLU()\n",
       "  (7): MaxPool2d(kernel_size=3, stride=2, padding=1, dilation=1, ceil_mode=False)\n",
       "  (8): Conv2d(64, 32, kernel_size=(5, 5), stride=(1, 1))\n",
       "  (9): BatchNorm2d(32, eps=1e-05, momentum=0.1, affine=True, track_running_stats=True)\n",
       "  (10): ReLU()\n",
       "  (11): MaxPool2d(kernel_size=3, stride=2, padding=1, dilation=1, ceil_mode=False)\n",
       "  (12): Flatten(start_dim=1, end_dim=-1)\n",
       "  (13): Dropout(p=0.5, inplace=False)\n",
       "  (14): Linear(in_features=5408, out_features=4096, bias=True)\n",
       "  (15): ReLU()\n",
       "  (16): Dropout(p=0.5, inplace=False)\n",
       "  (17): Linear(in_features=4096, out_features=512, bias=True)\n",
       "  (18): ReLU()\n",
       "  (19): Dropout(p=0.5, inplace=False)\n",
       "  (20): Linear(in_features=512, out_features=12, bias=True)\n",
       "  (21): Sigmoid()\n",
       ")"
      ]
     },
     "execution_count": 11,
     "metadata": {},
     "output_type": "execute_result"
    }
   ],
   "source": [
    "# Load the saved weights\n",
    "PATH = './hs_model_weights_improved_dataset.pth'\n",
    "hs_model.load_state_dict(torch.load(PATH))\n",
    "hs_model.eval()\n",
    "\n",
    "PATH = './os_model_weights_improved_dataset.pth'\n",
    "os_model.load_state_dict(torch.load(PATH))\n",
    "os_model.eval()\n",
    "\n",
    "PATH = './ps_model_weights_improved_dataset.pth'\n",
    "ps_model.load_state_dict(torch.load(PATH))\n",
    "ps_model.eval()"
   ]
  },
  {
   "cell_type": "code",
   "execution_count": 12,
   "id": "f295ffce-9d85-44da-81a3-91ea9244f1d9",
   "metadata": {},
   "outputs": [
    {
     "name": "stdout",
     "output_type": "stream",
     "text": [
      "correct: 341, wrong: 161, accuracy: 0.6792828685258964\n"
     ]
    }
   ],
   "source": [
    "correct = 0\n",
    "wrong = 0\n",
    "count = 0\n",
    "action_real = [0 for i in range(12)]\n",
    "action_predict = [0 for i in range(12)]\n",
    "predictions = []\n",
    "true_label = []\n",
    "for i, data in enumerate(test_loader):\n",
    "    \n",
    "    h_input, o_input, p_input, y = data\n",
    "    \n",
    "    h_yhat = hs_model(h_input)\n",
    "    o_yhat = os_model(o_input)\n",
    "    p_yhat = ps_model(p_input)\n",
    "    \n",
    "    yhat = (h_yhat + o_yhat + p_yhat) / 3.0\n",
    "    \n",
    "    # Get the predicted class for each input in the batch\n",
    "    predicted = torch.argmax(yhat.data, 1)\n",
    "    action_predict[predicted] += 1\n",
    "    predictions.append(predicted)\n",
    "    \n",
    "    # Get the correct class indices\n",
    "    true_labels = torch.argmax(y, 1)\n",
    "    action_real[true_labels] += 1\n",
    "    true_label.append(true_labels)\n",
    "    \n",
    "    for i in range(len(true_labels)):\n",
    "        if predicted==true_labels:\n",
    "            correct += 1\n",
    "        else:\n",
    "            wrong += 1\n",
    "\n",
    "accuracy = correct / (correct + wrong)\n",
    "print(f\"correct: {correct}, wrong: {wrong}, accuracy: {accuracy}\")\n",
    "# ans = [action_predict[i]/action_real[i] for i in range(15)]\n",
    "# print(ans)"
   ]
  },
  {
   "cell_type": "code",
   "execution_count": 13,
   "id": "cadf8628-aadb-4507-909b-5b5111f5ef23",
   "metadata": {},
   "outputs": [
    {
     "data": {
      "image/png": "[encoded data removed]",
      "text/plain": [
       "<Figure size 640x480 with 2 Axes>"
      ]
     },
     "metadata": {},
     "output_type": "display_data"
    }
   ],
   "source": [
    "import matplotlib.pyplot as plt\n",
    "import numpy as np\n",
    "from sklearn import metrics\n",
    "\n",
    "class_map = {\n",
    "    'carry': 0,\n",
    "    'catch': 1,\n",
    "    'lay': 2,\n",
    "    'ride': 3,\n",
    "    'sit': 4,\n",
    "    'skateboard': 5,\n",
    "    'ski': 6,\n",
    "    'snowboard': 7,\n",
    "    'surf': 8,\n",
    "    'talk_on_phone': 9,\n",
    "    'throw': 10,\n",
    "    'work_on_computer': 11\n",
    "}\n",
    "\n",
    "# Ensure action_real and action_predict are defined\n",
    "action_real = np.array(action_real)  \n",
    "action_predict = np.array(action_predict)\n",
    "action_real = action_real.squeeze()\n",
    "action_predict = action_predict.squeeze()\n",
    "\n",
    "confusion_matrix = metrics.confusion_matrix(true_label, predictions)\n",
    "\n",
    "cm_display = metrics.ConfusionMatrixDisplay(confusion_matrix=confusion_matrix, display_labels=class_map.keys())\n",
    "\n",
    "cm_display.plot(cmap = 'Blues', xticks_rotation=280)\n",
    "cm_display.figure_.savefig(\"matrix.png\")\n",
    "plt.show()"
   ]
  },
  {
   "cell_type": "code",
   "execution_count": null,
   "id": "79a30b00-25b1-45ea-818e-0378e4ceb0ad",
   "metadata": {},
   "outputs": [],
   "source": []
  }
 ],
 "metadata": {
  "kernelspec": {
   "display_name": "Python 3 (ipykernel)",
   "language": "python",
   "name": "python3"
  },
  "language_info": {
   "codemirror_mode": {
    "name": "ipython",
    "version": 3
   },
   "file_extension": ".py",
   "mimetype": "text/x-python",
   "name": "python",
   "nbconvert_exporter": "python",
   "pygments_lexer": "ipython3",
   "version": "3.11.8"
  }
 },
 "nbformat": 4,
 "nbformat_minor": 5
}
