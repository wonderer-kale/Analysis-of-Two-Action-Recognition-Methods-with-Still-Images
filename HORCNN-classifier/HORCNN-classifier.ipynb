{
 "cells": [
  {
   "cell_type": "markdown",
   "id": "7f92597f-563c-4e62-85d4-dac15e2893ee",
   "metadata": {},
   "source": [
    "## Packages"
   ]
  },
  {
   "cell_type": "code",
   "execution_count": 1,
   "id": "38c9b347-6589-47b4-ad65-014762e6f096",
   "metadata": {},
   "outputs": [],
   "source": [
    "import cv2\n",
    "import glob\n",
    "import json\n",
    "from PIL import Image\n",
    "\n",
    "import matplotlib.pyplot as plt\n",
    "import numpy as np\n",
    "from tqdm import tqdm\n",
    "\n",
    "import torch\n",
    "import torch.nn as nn\n",
    "import torch.nn.functional as F\n",
    "import torch.optim as optim\n",
    "import torchvision.transforms as transforms\n",
    "from torch.utils.data import Dataset, DataLoader\n",
    "from sklearn.model_selection import train_test_split\n",
    "\n",
    "torch.manual_seed(0)\n",
    "np.random.seed(0)"
   ]
  },
  {
   "cell_type": "markdown",
   "id": "24042c13-d714-4a54-b9c8-e93713157057",
   "metadata": {},
   "source": [
    "## Load and Preprocess Data"
   ]
  },
  {
   "cell_type": "code",
   "execution_count": 2,
   "id": "1c09a414-a641-4177-ad46-b47c881f640e",
   "metadata": {
    "scrolled": true
   },
   "outputs": [],
   "source": [
    "class HOIDataset(Dataset):\n",
    "    def __init__(self, transform, data_list, label_list):\n",
    "        self.imgs_path = \"vcoco_dataset/\"\n",
    "        self.transform = transform\n",
    "        self.data = []\n",
    "        for i in range(len(data_list)):\n",
    "            img_path = data_list[i]\n",
    "            class_name = label_list[i][0]\n",
    "            true_class_name = label_list[i][1]\n",
    "            agent_path = img_path + '/agent.jpg'\n",
    "            object_path = img_path + '/object.jpg'\n",
    "            union_path = img_path + '/union.jpg'\n",
    "            self.data.append([agent_path, object_path, union_path, class_name, true_class_name])\n",
    "\n",
    "        self.class_map = {\n",
    "            'carry': 0,\n",
    "            'catch_or_throw': 1,\n",
    "            'lay': 2,\n",
    "            'ride_or_sit': 3,\n",
    "            'skateboard_or_snowboard': 4,\n",
    "            'ski': 5,\n",
    "            'surf': 6,\n",
    "            'talk_on_phone': 7,\n",
    "            'work_on_computer': 8\n",
    "        }\n",
    "    \n",
    "    def __len__(self):\n",
    "        return len(self.data)    \n",
    "    \n",
    "    def __getitem__(self, idx):\n",
    "        agent_path, object_path, union_path, class_name, true_class_name = self.data[idx]\n",
    "        agent_img = Image.open(agent_path)\n",
    "        object_img = Image.open(object_path)\n",
    "        union_img = Image.open(union_path)\n",
    "        \n",
    "        if self.transform:\n",
    "            agent_img = self.transform(agent_img)\n",
    "            object_img = self.transform(object_img)\n",
    "            union_img = self.transform(union_img)\n",
    "\n",
    "        trans = transforms.Compose([ \n",
    "            transforms.ToTensor() \n",
    "        ]) \n",
    "        agent = trans(agent_img)\n",
    "        object = trans(object_img)\n",
    "        union = trans(union_img)\n",
    "        if class_name in ['ride', 'sit']:\n",
    "            class_id = self.class_map['ride_or_sit']\n",
    "        elif class_name in ['skateboard', 'snowboard']:\n",
    "            class_id = self.class_map['skateboard_or_snowboard']\n",
    "        elif class_name in ['catch', 'throw']:\n",
    "            class_id = self.class_map['catch_or_throw']\n",
    "        else:\n",
    "            class_id = self.class_map[class_name]\n",
    "        one_hot_class = torch.Tensor([0] * 9)\n",
    "        one_hot_class[class_id] += 1\n",
    "        \n",
    "        return agent, object, union, one_hot_class, class_name, true_class_name"
   ]
  },
  {
   "cell_type": "code",
   "execution_count": 3,
   "id": "7a9dded6-9004-488a-849e-a95321f4eb2c",
   "metadata": {},
   "outputs": [],
   "source": [
    "class PadToSquare:\n",
    "    def __call__(self, image):\n",
    "        w, h = image.size\n",
    "        max_wh = max(w, h)\n",
    "        hp = (max_wh - h) // 2\n",
    "        wp = (max_wh - w) // 2\n",
    "        padding = (wp, hp, wp, hp)\n",
    "        return transforms.functional.pad(image, padding, fill=0, padding_mode='constant')\n",
    "    \n",
    "class Rescale:\n",
    "    def __init__(self, output_size):\n",
    "        assert isinstance(output_size, (int, tuple))\n",
    "        self.output_size = output_size\n",
    "\n",
    "    def __call__(self, image):\n",
    "        return transforms.functional.resize(image, self.output_size)\n",
    "\n",
    "class PadAndRescale:\n",
    "    def __init__(self, output_size):\n",
    "        self.pad = PadToSquare()\n",
    "        self.rescale = Rescale(output_size)\n",
    "\n",
    "    def __call__(self, image):\n",
    "        image = self.pad(image)\n",
    "        image = self.rescale(image)\n",
    "        return image\n"
   ]
  },
  {
   "cell_type": "code",
   "execution_count": 23,
   "id": "c851bb72-6aea-4983-b02a-afa6e3a4dc27",
   "metadata": {},
   "outputs": [],
   "source": [
    "data_list = []\n",
    "label_list = []\n",
    "ride_list = []\n",
    "imgs_path = \"training_data/\"\n",
    "file_list = glob.glob(imgs_path + \"*\")\n",
    "for class_path in file_list:\n",
    "    class_name = class_path.split(\"\\\\\")[-1]\n",
    "    if class_name == 'ride':\n",
    "        num_img = 0\n",
    "        for img_path in glob.glob(class_path + \"/*\"):\n",
    "            ride_list.append(img_path.split(\"/\")[-1])\n",
    "            data_list.append(img_path)\n",
    "            label_list.append(('ride_or_sit', class_name))\n",
    "            num_img += 1\n",
    "            if num_img > 417:\n",
    "                break\n",
    "\n",
    "for class_path in file_list:\n",
    "    class_name = class_path.split(\"\\\\\")[-1]\n",
    "    num_img = 0\n",
    "    if class_name in ['hold', 'look', 'jump', 'point', 'read', 'kick', 'drink']:\n",
    "        continue\n",
    "    elif class_name == 'sit':\n",
    "        for img_path in glob.glob(class_path + \"/*\"):\n",
    "            if img_path.split(\"/\")[-1] not in ride_list:\n",
    "                data_list.append(img_path)\n",
    "                label_list.append(('ride_or_sit', class_name))\n",
    "                num_img += 1\n",
    "                if num_img > 250:\n",
    "                    break\n",
    "    elif class_name in ['skateboard', 'snowboard']:\n",
    "        for img_path in glob.glob(class_path + \"/*\"):\n",
    "            data_list.append(img_path)\n",
    "            label_list.append(('skateboard_or_snowboard', class_name))\n",
    "            num_img += 1\n",
    "            if num_img > 250:\n",
    "                break\n",
    "    elif class_name in ['catch', 'throw']:\n",
    "        for img_path in glob.glob(class_path + \"/*\"):\n",
    "            data_list.append(img_path)\n",
    "            label_list.append(('catch_or_throw', class_name))\n",
    "            num_img += 1\n",
    "            if num_img > 250:\n",
    "                break\n",
    "    elif class_name != 'ride':\n",
    "        for img_path in glob.glob(class_path + \"/*\"):\n",
    "            data_list.append(img_path)\n",
    "            label_list.append((class_name, class_name))\n",
    "            num_img += 1\n",
    "            if num_img > 417:\n",
    "                break\n",
    "\n",
    "# Split the dataset\n",
    "train_data, test_data, train_labels, test_labels = train_test_split(data_list, label_list, test_size=0.1, random_state=42)\n",
    "\n",
    "# Create HOIDatasets\n",
    "transform = PadAndRescale(output_size=(128, 128))\n",
    "train_dataset = HOIDataset(transform = transform, data_list = train_data, label_list = train_labels)\n",
    "test_dataset = HOIDataset(transform = transform, data_list = test_data, label_list = test_labels)\n",
    "\n",
    "# Create DataLoaders\n",
    "train_loader = DataLoader(train_dataset, batch_size=32, shuffle=True)\n",
    "test_loader = DataLoader(test_dataset, batch_size=1, shuffle=False)"
   ]
  },
  {
   "cell_type": "markdown",
   "id": "18d4e281-23c3-42a0-97ad-693a29d897be",
   "metadata": {},
   "source": [
    "## Model"
   ]
  },
  {
   "cell_type": "code",
   "execution_count": 24,
   "id": "1fb5d8fc-1d19-44e2-aa0b-740445511fe4",
   "metadata": {
    "scrolled": true
   },
   "outputs": [
    {
     "name": "stderr",
     "output_type": "stream",
     "text": [
      "C:\\Users\\Microsoft\\Anaconda\\envs\\AI\\Lib\\site-packages\\torchvision\\models\\_utils.py:208: UserWarning: The parameter 'pretrained' is deprecated since 0.13 and may be removed in the future, please use 'weights' instead.\n",
      "  warnings.warn(\n",
      "C:\\Users\\Microsoft\\Anaconda\\envs\\AI\\Lib\\site-packages\\torchvision\\models\\_utils.py:223: UserWarning: Arguments other than a weight enum or `None` for 'weights' are deprecated since 0.13 and may be removed in the future. The current behavior is equivalent to passing `weights=AlexNet_Weights.IMAGENET1K_V1`. You can also use `weights=AlexNet_Weights.DEFAULT` to get the most up-to-date weights.\n",
      "  warnings.warn(msg)\n"
     ]
    },
    {
     "data": {
      "text/plain": [
       "AlexNet(\n",
       "  (features): Sequential(\n",
       "    (0): Conv2d(3, 64, kernel_size=(11, 11), stride=(4, 4), padding=(2, 2))\n",
       "    (1): ReLU(inplace=True)\n",
       "    (2): MaxPool2d(kernel_size=3, stride=2, padding=0, dilation=1, ceil_mode=False)\n",
       "    (3): Conv2d(64, 192, kernel_size=(5, 5), stride=(1, 1), padding=(2, 2))\n",
       "    (4): ReLU(inplace=True)\n",
       "    (5): MaxPool2d(kernel_size=3, stride=2, padding=0, dilation=1, ceil_mode=False)\n",
       "    (6): Conv2d(192, 384, kernel_size=(3, 3), stride=(1, 1), padding=(1, 1))\n",
       "    (7): ReLU(inplace=True)\n",
       "    (8): Conv2d(384, 256, kernel_size=(3, 3), stride=(1, 1), padding=(1, 1))\n",
       "    (9): ReLU(inplace=True)\n",
       "    (10): Conv2d(256, 256, kernel_size=(3, 3), stride=(1, 1), padding=(1, 1))\n",
       "    (11): ReLU(inplace=True)\n",
       "    (12): MaxPool2d(kernel_size=3, stride=2, padding=0, dilation=1, ceil_mode=False)\n",
       "  )\n",
       "  (avgpool): AdaptiveAvgPool2d(output_size=(6, 6))\n",
       "  (classifier): Sequential(\n",
       "    (0): Dropout(p=0.5, inplace=False)\n",
       "    (1): Linear(in_features=9216, out_features=4096, bias=True)\n",
       "    (2): ReLU(inplace=True)\n",
       "    (3): Dropout(p=0.5, inplace=False)\n",
       "    (4): Linear(in_features=4096, out_features=4096, bias=True)\n",
       "    (5): ReLU(inplace=True)\n",
       "    (6): Linear(in_features=4096, out_features=9, bias=True)\n",
       "    (7): Sigmoid()\n",
       "  )\n",
       ")"
      ]
     },
     "execution_count": 24,
     "metadata": {},
     "output_type": "execute_result"
    }
   ],
   "source": [
    "from torchvision import models\n",
    "net = models.alexnet(pretrained=True)\n",
    "\n",
    "net.classifier[6] = nn.Linear(in_features=4096, out_features=9, bias=True)\n",
    "net.classifier.append(nn.Sigmoid())\n",
    "\n",
    "net.train()"
   ]
  },
  {
   "cell_type": "markdown",
   "id": "246fbe1e-d4da-4f52-ba1e-280c898ca706",
   "metadata": {},
   "source": [
    "### Human Stream and Object Stream"
   ]
  },
  {
   "cell_type": "code",
   "execution_count": 25,
   "id": "c9b36238-56b5-4de4-aee6-4f4b90c3ca68",
   "metadata": {},
   "outputs": [],
   "source": [
    "import copy\n",
    "\n",
    "hs_model = copy.deepcopy(net)\n",
    "os_model = copy.deepcopy(net)"
   ]
  },
  {
   "cell_type": "markdown",
   "id": "66e27de9-4950-4a70-9943-1caa1e49c401",
   "metadata": {},
   "source": [
    "### Pair Stream"
   ]
  },
  {
   "cell_type": "code",
   "execution_count": 26,
   "id": "92038dc1-95b4-4648-b74f-2cf299f074d9",
   "metadata": {},
   "outputs": [],
   "source": [
    "ps_model = nn.Sequential(\n",
    "    nn.Conv2d(3, 32, kernel_size=5),\n",
    "    nn.BatchNorm2d(32),\n",
    "    nn.ReLU(),\n",
    "    nn.MaxPool2d(kernel_size=3, stride=2, padding=1),\n",
    "    nn.Conv2d(32, 64, kernel_size=5),\n",
    "    nn.BatchNorm2d(64),\n",
    "    nn.ReLU(),\n",
    "    nn.MaxPool2d(kernel_size=3, stride=2, padding=1),\n",
    "    nn.Conv2d(64, 32, kernel_size=5),\n",
    "    nn.BatchNorm2d(32),\n",
    "    nn.ReLU(),\n",
    "    nn.MaxPool2d(kernel_size=3, stride=2, padding=1),\n",
    "    nn.Flatten(),\n",
    "    nn.Dropout(p=0.5),\n",
    "    nn.Linear(5408, 4096),\n",
    "    nn.ReLU(),\n",
    "    nn.Dropout(p=0.5),\n",
    "    nn.Linear(4096, 512),\n",
    "    nn.ReLU(),\n",
    "    nn.Dropout(p=0.5),\n",
    "    nn.Linear(512, 9),\n",
    "    nn.Sigmoid()\n",
    ")"
   ]
  },
  {
   "cell_type": "markdown",
   "id": "06ee0e07-333c-4b7a-ab50-838149f6f5ca",
   "metadata": {},
   "source": [
    "## Training"
   ]
  },
  {
   "cell_type": "markdown",
   "id": "85121505-1bed-4aad-855d-4923522297d3",
   "metadata": {},
   "source": [
    "### Hyperparameters"
   ]
  },
  {
   "cell_type": "code",
   "execution_count": 27,
   "id": "d197863f-6c1c-4aa1-8ad6-f094ae3fc5d9",
   "metadata": {},
   "outputs": [],
   "source": [
    "num_epochs = 5"
   ]
  },
  {
   "cell_type": "code",
   "execution_count": 28,
   "id": "7f9fd584-de18-4a24-a7de-0130f4608f19",
   "metadata": {},
   "outputs": [],
   "source": [
    "criterion = nn.CrossEntropyLoss()\n",
    "\n",
    "h_optimizer = optim.Adam(hs_model.parameters(), lr=0.0001)\n",
    "o_optimizer = optim.Adam(os_model.parameters(), lr=0.0001)\n",
    "p_optimizer = optim.Adam(ps_model.parameters(), lr=0.0001)"
   ]
  },
  {
   "cell_type": "code",
   "execution_count": 29,
   "id": "b4031d6c-8d03-4cb2-b9d6-5d77743b9d3c",
   "metadata": {},
   "outputs": [
    {
     "name": "stderr",
     "output_type": "stream",
     "text": [
      "Epoch 1:  85%|████████████████████████████████████████████████████████████▏          | 100/118 [04:08<00:42,  2.38s/it]"
     ]
    },
    {
     "name": "stdout",
     "output_type": "stream",
     "text": [
      "[1,   100] loss: 1.905\n",
      "Training accuracy: 0.495625\n"
     ]
    },
    {
     "name": "stderr",
     "output_type": "stream",
     "text": [
      "Epoch 1: 100%|███████████████████████████████████████████████████████████████████████| 118/118 [04:48<00:00,  2.45s/it]\n",
      "Validation Epoch 1: 100%|████████████████████████████████████████████████████████████| 419/419 [00:21<00:00, 19.26it/s]\n"
     ]
    },
    {
     "name": "stdout",
     "output_type": "stream",
     "text": [
      "Epoch 1 | validation loss: 1.782 | accuracy: 0.6443914081145584\n",
      "[44, 32, 53, 78, 60, 42, 36, 29, 45]\n",
      "[36, 35, 61, 98, 41, 44, 20, 31, 53]\n"
     ]
    },
    {
     "name": "stderr",
     "output_type": "stream",
     "text": [
      "Epoch 2:  85%|████████████████████████████████████████████████████████████▏          | 100/118 [03:37<00:37,  2.08s/it]"
     ]
    },
    {
     "name": "stdout",
     "output_type": "stream",
     "text": [
      "[2,   100] loss: 1.748\n",
      "Training accuracy: 0.671875\n"
     ]
    },
    {
     "name": "stderr",
     "output_type": "stream",
     "text": [
      "Epoch 2: 100%|███████████████████████████████████████████████████████████████████████| 118/118 [04:14<00:00,  2.15s/it]\n",
      "Validation Epoch 2: 100%|████████████████████████████████████████████████████████████| 419/419 [00:20<00:00, 20.22it/s]\n"
     ]
    },
    {
     "name": "stdout",
     "output_type": "stream",
     "text": [
      "Epoch 2 | validation loss: 1.750 | accuracy: 0.6467780429594272\n",
      "[44, 32, 53, 78, 60, 42, 36, 29, 45]\n",
      "[51, 40, 40, 111, 41, 40, 51, 30, 15]\n"
     ]
    },
    {
     "name": "stderr",
     "output_type": "stream",
     "text": [
      "Epoch 3:  85%|████████████████████████████████████████████████████████████▏          | 100/118 [03:35<00:38,  2.16s/it]"
     ]
    },
    {
     "name": "stdout",
     "output_type": "stream",
     "text": [
      "[3,   100] loss: 1.701\n",
      "Training accuracy: 0.7340625\n"
     ]
    },
    {
     "name": "stderr",
     "output_type": "stream",
     "text": [
      "Epoch 3: 100%|███████████████████████████████████████████████████████████████████████| 118/118 [04:16<00:00,  2.18s/it]\n",
      "Validation Epoch 3: 100%|████████████████████████████████████████████████████████████| 419/419 [00:22<00:00, 18.96it/s]\n"
     ]
    },
    {
     "name": "stdout",
     "output_type": "stream",
     "text": [
      "Epoch 3 | validation loss: 1.723 | accuracy: 0.7088305489260143\n",
      "[44, 32, 53, 78, 60, 42, 36, 29, 45]\n",
      "[42, 36, 58, 76, 56, 49, 30, 31, 41]\n"
     ]
    },
    {
     "name": "stderr",
     "output_type": "stream",
     "text": [
      "Epoch 4:  85%|████████████████████████████████████████████████████████████▏          | 100/118 [03:23<00:40,  2.25s/it]"
     ]
    },
    {
     "name": "stdout",
     "output_type": "stream",
     "text": [
      "[4,   100] loss: 1.661\n",
      "Training accuracy: 0.77875\n"
     ]
    },
    {
     "name": "stderr",
     "output_type": "stream",
     "text": [
      "Epoch 4: 100%|███████████████████████████████████████████████████████████████████████| 118/118 [04:01<00:00,  2.04s/it]\n",
      "Validation Epoch 4: 100%|████████████████████████████████████████████████████████████| 419/419 [00:21<00:00, 19.13it/s]\n"
     ]
    },
    {
     "name": "stdout",
     "output_type": "stream",
     "text": [
      "Epoch 4 | validation loss: 1.693 | accuracy: 0.7255369928400954\n",
      "[44, 32, 53, 78, 60, 42, 36, 29, 45]\n",
      "[36, 35, 61, 75, 65, 44, 35, 24, 44]\n"
     ]
    },
    {
     "name": "stderr",
     "output_type": "stream",
     "text": [
      "Epoch 5:  85%|████████████████████████████████████████████████████████████▏          | 100/118 [03:30<00:36,  2.00s/it]"
     ]
    },
    {
     "name": "stdout",
     "output_type": "stream",
     "text": [
      "[5,   100] loss: 1.636\n",
      "Training accuracy: 0.8246875\n"
     ]
    },
    {
     "name": "stderr",
     "output_type": "stream",
     "text": [
      "Epoch 5: 100%|███████████████████████████████████████████████████████████████████████| 118/118 [04:07<00:00,  2.09s/it]\n",
      "Validation Epoch 5: 100%|████████████████████████████████████████████████████████████| 419/419 [00:20<00:00, 20.39it/s]"
     ]
    },
    {
     "name": "stdout",
     "output_type": "stream",
     "text": [
      "Epoch 5 | validation loss: 1.696 | accuracy: 0.7565632458233891\n",
      "[44, 32, 53, 78, 60, 42, 36, 29, 45]\n",
      "[43, 43, 62, 52, 57, 46, 43, 29, 44]\n"
     ]
    },
    {
     "name": "stderr",
     "output_type": "stream",
     "text": [
      "\n"
     ]
    }
   ],
   "source": [
    "for epoch in range(num_epochs): \n",
    "\n",
    "    running_loss = 0.0\n",
    "    correct = 0\n",
    "    for i, data in enumerate(tqdm(train_loader, desc=f'Epoch {epoch + 1}')):\n",
    "        \n",
    "        h_input, o_input, p_input, y, class_name, _ = data\n",
    "        \n",
    "        h_optimizer.zero_grad()\n",
    "        o_optimizer.zero_grad()\n",
    "        p_optimizer.zero_grad()\n",
    "\n",
    "        h_yhat = hs_model(h_input)\n",
    "        o_yhat = os_model(o_input)\n",
    "        p_yhat = ps_model(p_input)\n",
    "\n",
    "        yhat = (h_yhat + o_yhat + p_yhat) / 3.0\n",
    "        \n",
    "        loss = criterion(yhat, y)\n",
    "        loss.backward()\n",
    "        h_optimizer.step()\n",
    "        o_optimizer.step()\n",
    "        p_optimizer.step()\n",
    "\n",
    "        correct += sum(torch.argmax(yhat, 1)==torch.argmax(y, 1)).item()\n",
    "        running_loss += loss.item()\n",
    "        if i % 100 == 99:\n",
    "            print(f'[{epoch + 1}, {i + 1:5d}] loss: {running_loss / 100:.3f}')\n",
    "            print(f'Training accuracy: {correct / 3200}')\n",
    "            correct = 0\n",
    "            running_loss = 0.0\n",
    "            \n",
    "    val_loss = 0.0\n",
    "    val_steps = 0\n",
    "    hs_model.eval()\n",
    "    os_model.eval()\n",
    "    ps_model.eval()\n",
    "    \n",
    "    with torch.no_grad():\n",
    "        correct = 0\n",
    "        wrong = 0\n",
    "        action_real = [0] * 9\n",
    "        action_predict = [0] * 9\n",
    "        for val_data in tqdm(test_loader, desc=f'Validation Epoch {epoch + 1}'):\n",
    "            h_input, o_input, p_input, y, class_name, _ = val_data\n",
    "            \n",
    "            h_yhat = hs_model(h_input)\n",
    "            o_yhat = os_model(o_input)\n",
    "            p_yhat = ps_model(p_input)\n",
    "\n",
    "            y_hat = (h_yhat + o_yhat + p_yhat) / 3.0\n",
    "\n",
    "            predicted = torch.argmax(y_hat.data, 1)\n",
    "            action_predict[predicted] += 1\n",
    "\n",
    "            true_labels = torch.argmax(y, 1)\n",
    "            action_real[true_labels] += 1\n",
    "\n",
    "            for i in range(len(true_labels)):\n",
    "                if predicted==true_labels:\n",
    "                    correct += 1\n",
    "                else:\n",
    "                    wrong += 1\n",
    "            loss = criterion(y_hat, y)\n",
    "            val_loss += loss.item()\n",
    "            val_steps += 1\n",
    "\n",
    "    avg_val_loss = val_loss / val_steps\n",
    "    accuracy = correct / (correct + wrong)\n",
    "    print(f'Epoch {epoch + 1} | validation loss: {avg_val_loss:.3f} | accuracy: {accuracy}')\n",
    "    print(action_real)\n",
    "    print(action_predict)"
   ]
  },
  {
   "cell_type": "code",
   "execution_count": 30,
   "id": "76d46d46-54d2-4640-bc9f-9ffa0b6cfb2c",
   "metadata": {},
   "outputs": [],
   "source": [
    "# save weights\n",
    "PATH = './hs_model_weights_with_classifier.pth'\n",
    "torch.save(hs_model.state_dict(), PATH)\n",
    "\n",
    "PATH = './os_model_weights_with_classifier.pth'\n",
    "torch.save(os_model.state_dict(), PATH)\n",
    "\n",
    "PATH = './ps_model_weights_with_classifier.pth'\n",
    "torch.save(ps_model.state_dict(), PATH)"
   ]
  },
  {
   "cell_type": "code",
   "execution_count": 31,
   "id": "7ea5b461-3b6d-469f-8bae-78171aa7e509",
   "metadata": {},
   "outputs": [
    {
     "data": {
      "text/plain": [
       "AlexNet(\n",
       "  (features): Sequential(\n",
       "    (0): Conv2d(3, 64, kernel_size=(11, 11), stride=(4, 4), padding=(2, 2))\n",
       "    (1): ReLU(inplace=True)\n",
       "    (2): MaxPool2d(kernel_size=3, stride=2, padding=0, dilation=1, ceil_mode=False)\n",
       "    (3): Conv2d(64, 192, kernel_size=(5, 5), stride=(1, 1), padding=(2, 2))\n",
       "    (4): ReLU(inplace=True)\n",
       "    (5): MaxPool2d(kernel_size=3, stride=2, padding=0, dilation=1, ceil_mode=False)\n",
       "    (6): Conv2d(192, 384, kernel_size=(3, 3), stride=(1, 1), padding=(1, 1))\n",
       "    (7): ReLU(inplace=True)\n",
       "    (8): Conv2d(384, 256, kernel_size=(3, 3), stride=(1, 1), padding=(1, 1))\n",
       "    (9): ReLU(inplace=True)\n",
       "    (10): Conv2d(256, 256, kernel_size=(3, 3), stride=(1, 1), padding=(1, 1))\n",
       "    (11): ReLU(inplace=True)\n",
       "    (12): MaxPool2d(kernel_size=3, stride=2, padding=0, dilation=1, ceil_mode=False)\n",
       "  )\n",
       "  (avgpool): AdaptiveAvgPool2d(output_size=(6, 6))\n",
       "  (classifier): Sequential(\n",
       "    (0): Dropout(p=0.5, inplace=False)\n",
       "    (1): Linear(in_features=9216, out_features=4096, bias=True)\n",
       "    (2): ReLU(inplace=True)\n",
       "    (3): Dropout(p=0.5, inplace=False)\n",
       "    (4): Linear(in_features=4096, out_features=4096, bias=True)\n",
       "    (5): ReLU(inplace=True)\n",
       "    (6): Linear(in_features=4096, out_features=1, bias=True)\n",
       "    (7): Sigmoid()\n",
       "  )\n",
       ")"
      ]
     },
     "execution_count": 31,
     "metadata": {},
     "output_type": "execute_result"
    }
   ],
   "source": [
    "# Load the saved weights\n",
    "PATH = './hs_model_weights_with_classifier.pth'\n",
    "hs_model.load_state_dict(torch.load(PATH))\n",
    "hs_model.eval()\n",
    "\n",
    "PATH = './os_model_weights_with_classifier.pth'\n",
    "os_model.load_state_dict(torch.load(PATH))\n",
    "os_model.eval()\n",
    "\n",
    "PATH = './ps_model_weights_with_classifier.pth'\n",
    "ps_model.load_state_dict(torch.load(PATH))\n",
    "ps_model.eval()\n",
    "\n",
    "net = models.alexnet(pretrained=True)\n",
    "net.classifier[6] = nn.Linear(in_features=4096, out_features=1, bias=True)\n",
    "net.classifier.append(nn.Sigmoid())\n",
    "\n",
    "PATH = './ride_sit_classifier_weights.pth'\n",
    "ride_sit_model = copy.deepcopy(net)\n",
    "ride_sit_model.load_state_dict(torch.load(PATH))\n",
    "ride_sit_model.eval()\n",
    "\n",
    "PATH = './skateboard_snowboard_classifier_weights.pth'\n",
    "skate_snow_model = copy.deepcopy(net)\n",
    "skate_snow_model.load_state_dict(torch.load(PATH))\n",
    "skate_snow_model.eval()\n",
    "\n",
    "PATH = './catch_throw_classifier_weights.pth'\n",
    "catch_throw_model = copy.deepcopy(net)\n",
    "catch_throw_model.load_state_dict(torch.load(PATH))\n",
    "catch_throw_model.eval()"
   ]
  },
  {
   "cell_type": "markdown",
   "id": "65196af0-f7ca-4139-b3ce-4d11042f57fb",
   "metadata": {},
   "source": [
    "## Evaluation"
   ]
  },
  {
   "cell_type": "code",
   "execution_count": 32,
   "id": "f305c20c-fe31-4793-974a-4bcbad6cd771",
   "metadata": {},
   "outputs": [],
   "source": [
    "class_map = {\n",
    "    'carry': 0,\n",
    "    'catch': 1,\n",
    "    'lay': 2,\n",
    "    'ride': 3,\n",
    "    'sit': 4,\n",
    "    'skateboard': 5,\n",
    "    'ski': 6,\n",
    "    'snowboard': 7,\n",
    "    'surf': 8,\n",
    "    'talk_on_phone': 9,\n",
    "    'throw': 10,\n",
    "    'work_on_computer': 11\n",
    "}\n",
    "\n",
    "predict_to_true_class_map = {\n",
    "    0: 0,\n",
    "    2: 2,\n",
    "    5: 6,\n",
    "    6: 8,\n",
    "    7: 9,\n",
    "    8: 11\n",
    "}"
   ]
  },
  {
   "cell_type": "code",
   "execution_count": 33,
   "id": "1b52ce2c-8afb-43e4-8f0d-fc69485ffe70",
   "metadata": {},
   "outputs": [
    {
     "name": "stdout",
     "output_type": "stream",
     "text": [
      "correct: 307, wrong: 112, accuracy: 0.7326968973747017\n"
     ]
    }
   ],
   "source": [
    "correct = 0\n",
    "wrong = 0\n",
    "count = 0\n",
    "predictions = []\n",
    "true_label = []\n",
    "for i, data in enumerate(test_loader):\n",
    "    \n",
    "    h_input, o_input, p_input, y, class_name, true_class_name = data\n",
    "    \n",
    "    h_yhat = hs_model(h_input)\n",
    "    o_yhat = os_model(o_input)\n",
    "    p_yhat = ps_model(p_input)\n",
    "    \n",
    "    yhat = (h_yhat + o_yhat + p_yhat) / 3.0\n",
    "    \n",
    "    # Get the predicted class for each input in the batch\n",
    "    predicted = torch.argmax(yhat.data, 1).item()\n",
    "    if predicted == 1:\n",
    "        catch_throw_yhat = catch_throw_model(h_input).item()\n",
    "        if catch_throw_yhat > 0.5:\n",
    "            predicted = 10 # throw\n",
    "        else:\n",
    "            predicted = 1 # catch\n",
    "    elif predicted == 3:\n",
    "        ride_sit_yhat = ride_sit_model(o_input).item()\n",
    "        if ride_sit_yhat > 0.5:\n",
    "            predicted = 4 # sit\n",
    "        else:\n",
    "            predicted = 3 # ride\n",
    "    elif predicted == 4:\n",
    "        skate_snow_yhat = skate_snow_model(o_input).item()\n",
    "        if skate_snow_yhat > 0.5:\n",
    "            predicted = 5 # skateboard\n",
    "        else:\n",
    "            predicted = 7 # snowboard\n",
    "    else:\n",
    "        predicted = predict_to_true_class_map[predicted]\n",
    "    \n",
    "    predictions.append(predicted)\n",
    "    \n",
    "    # true_labels = torch.argmax(y, 1)\n",
    "    true_label.append(class_map[true_class_name[0]])\n",
    "    \n",
    "    if predicted == class_map[true_class_name[0]]:\n",
    "        correct += 1\n",
    "    else:\n",
    "        wrong += 1\n",
    "\n",
    "accuracy = correct / (correct + wrong)\n",
    "print(f\"correct: {correct}, wrong: {wrong}, accuracy: {accuracy}\")"
   ]
  },
  {
   "cell_type": "code",
   "execution_count": 34,
   "id": "dac3dec9-a842-4746-a059-4b88549eb901",
   "metadata": {},
   "outputs": [
    {
     "data": {
      "image/png": "[encoded data removed]",
      "text/plain": [
       "<Figure size 640x480 with 2 Axes>"
      ]
     },
     "metadata": {},
     "output_type": "display_data"
    }
   ],
   "source": [
    "import matplotlib.pyplot as plt\n",
    "import numpy as np\n",
    "from sklearn import metrics\n",
    "\n",
    "'''\n",
    "# Ensure action_real and action_predict are defined\n",
    "action_real = np.array(action_real)  \n",
    "action_predict = np.array(action_predict)\n",
    "action_real = action_real.squeeze()\n",
    "action_predict = action_predict.squeeze()\n",
    "'''\n",
    "confusion_matrix = metrics.confusion_matrix(true_label, predictions)\n",
    "\n",
    "cm_display = metrics.ConfusionMatrixDisplay(confusion_matrix=confusion_matrix, display_labels=class_map.keys())\n",
    "\n",
    "cm_display.plot(cmap = 'Blues', xticks_rotation=280)\n",
    "cm_display.figure_.savefig(\"confusion_matrix_with_classifier.png\")\n",
    "plt.show()"
   ]
  },
  {
   "cell_type": "code",
   "execution_count": null,
   "id": "051048b9-57c9-4564-959a-db2f243c2cff",
   "metadata": {},
   "outputs": [],
   "source": []
  }
 ],
 "metadata": {
  "kernelspec": {
   "display_name": "Python 3 (ipykernel)",
   "language": "python",
   "name": "python3"
  },
  "language_info": {
   "codemirror_mode": {
    "name": "ipython",
    "version": 3
   },
   "file_extension": ".py",
   "mimetype": "text/x-python",
   "name": "python",
   "nbconvert_exporter": "python",
   "pygments_lexer": "ipython3",
   "version": "3.11.8"
  }
 },
 "nbformat": 4,
 "nbformat_minor": 5
}
